{
 "cells": [
  {
   "cell_type": "markdown",
   "metadata": {},
   "source": [
    "# Kickstarter - Multi Regression"
   ]
  },
  {
   "cell_type": "code",
   "execution_count": 1,
   "metadata": {},
   "outputs": [],
   "source": [
    "import pandas as pd\n",
    "import numpy as np\n",
    "\n",
    "# Modelling and evaluation libraries\n",
    "from sklearn import linear_model\n",
    "from sklearn.model_selection import train_test_split\n",
    "from sklearn.metrics import confusion_matrix\n",
    "from sklearn.metrics import classification_report\n",
    "import statsmodels.formula.api as smf\n",
    "\n",
    "# Visualisation\n",
    "import matplotlib.pyplot as plt\n",
    "import seaborn as sns\n",
    "\n",
    "%matplotlib inline"
   ]
  },
  {
   "cell_type": "markdown",
   "metadata": {},
   "source": [
    "## Read data"
   ]
  },
  {
   "cell_type": "code",
   "execution_count": 2,
   "metadata": {},
   "outputs": [],
   "source": [
    "df = pd.read_csv('data/Kickstarter_cleaned.csv')\n",
    "df = df.drop(['Unnamed: 0'], axis=1)"
   ]
  },
  {
   "cell_type": "code",
   "execution_count": 3,
   "metadata": {},
   "outputs": [
    {
     "data": {
      "text/html": [
       "<div>\n",
       "<style scoped>\n",
       "    .dataframe tbody tr th:only-of-type {\n",
       "        vertical-align: middle;\n",
       "    }\n",
       "\n",
       "    .dataframe tbody tr th {\n",
       "        vertical-align: top;\n",
       "    }\n",
       "\n",
       "    .dataframe thead th {\n",
       "        text-align: right;\n",
       "    }\n",
       "</style>\n",
       "<table border=\"1\" class=\"dataframe\">\n",
       "  <thead>\n",
       "    <tr style=\"text-align: right;\">\n",
       "      <th></th>\n",
       "      <th>backers_count</th>\n",
       "      <th>blurb</th>\n",
       "      <th>country</th>\n",
       "      <th>id</th>\n",
       "      <th>name</th>\n",
       "      <th>slug</th>\n",
       "      <th>state</th>\n",
       "      <th>usd_pledged</th>\n",
       "      <th>category_name</th>\n",
       "      <th>creator_name</th>\n",
       "      <th>location_name</th>\n",
       "      <th>location_state</th>\n",
       "      <th>created_at_rd</th>\n",
       "      <th>deadline_rd</th>\n",
       "      <th>launched_at_rd</th>\n",
       "      <th>state_changed_at_rd</th>\n",
       "      <th>usd_goal</th>\n",
       "      <th>duration_days</th>\n",
       "      <th>d_pledged_goal_usd</th>\n",
       "    </tr>\n",
       "  </thead>\n",
       "  <tbody>\n",
       "    <tr>\n",
       "      <th>0</th>\n",
       "      <td>47</td>\n",
       "      <td>A colorful Dia de los Muertos themed oracle de...</td>\n",
       "      <td>US</td>\n",
       "      <td>928751314</td>\n",
       "      <td>The Ofrenda Oracle Deck</td>\n",
       "      <td>the-ofrenda-oracle-deck</td>\n",
       "      <td>successful</td>\n",
       "      <td>1950.0</td>\n",
       "      <td>Playing Cards</td>\n",
       "      <td>Lisa Vollrath</td>\n",
       "      <td>Euless</td>\n",
       "      <td>TX</td>\n",
       "      <td>Wed Aug  2 16:28:13 2017</td>\n",
       "      <td>Sat Sep  9 19:00:59 2017</td>\n",
       "      <td>Thu Aug 10 19:00:59 2017</td>\n",
       "      <td>Sat Sep  9 19:00:59 2017</td>\n",
       "      <td>1000.0</td>\n",
       "      <td>30.0</td>\n",
       "      <td>950.0</td>\n",
       "    </tr>\n",
       "  </tbody>\n",
       "</table>\n",
       "</div>"
      ],
      "text/plain": [
       "   backers_count                                              blurb country  \\\n",
       "0             47  A colorful Dia de los Muertos themed oracle de...      US   \n",
       "\n",
       "          id                     name                     slug       state  \\\n",
       "0  928751314  The Ofrenda Oracle Deck  the-ofrenda-oracle-deck  successful   \n",
       "\n",
       "   usd_pledged  category_name   creator_name location_name location_state  \\\n",
       "0       1950.0  Playing Cards  Lisa Vollrath        Euless             TX   \n",
       "\n",
       "              created_at_rd               deadline_rd  \\\n",
       "0  Wed Aug  2 16:28:13 2017  Sat Sep  9 19:00:59 2017   \n",
       "\n",
       "             launched_at_rd       state_changed_at_rd  usd_goal  \\\n",
       "0  Thu Aug 10 19:00:59 2017  Sat Sep  9 19:00:59 2017    1000.0   \n",
       "\n",
       "   duration_days  d_pledged_goal_usd  \n",
       "0           30.0               950.0  "
      ]
     },
     "execution_count": 3,
     "metadata": {},
     "output_type": "execute_result"
    }
   ],
   "source": [
    "df.head(1)"
   ]
  },
  {
   "cell_type": "markdown",
   "metadata": {},
   "source": [
    "## Dummy creation"
   ]
  },
  {
   "cell_type": "code",
   "execution_count": 4,
   "metadata": {},
   "outputs": [],
   "source": [
    "# Create dummies\n",
    "dummies = pd.get_dummies(df.state, prefix='state', drop_first=True)\n",
    "\n",
    "# Concatinate dummies to data frame\n",
    "df = pd.concat([df, dummies], axis=1)"
   ]
  },
  {
   "cell_type": "code",
   "execution_count": 5,
   "metadata": {},
   "outputs": [
    {
     "data": {
      "text/html": [
       "<div>\n",
       "<style scoped>\n",
       "    .dataframe tbody tr th:only-of-type {\n",
       "        vertical-align: middle;\n",
       "    }\n",
       "\n",
       "    .dataframe tbody tr th {\n",
       "        vertical-align: top;\n",
       "    }\n",
       "\n",
       "    .dataframe thead th {\n",
       "        text-align: right;\n",
       "    }\n",
       "</style>\n",
       "<table border=\"1\" class=\"dataframe\">\n",
       "  <thead>\n",
       "    <tr style=\"text-align: right;\">\n",
       "      <th></th>\n",
       "      <th>backers_count</th>\n",
       "      <th>blurb</th>\n",
       "      <th>country</th>\n",
       "      <th>id</th>\n",
       "      <th>name</th>\n",
       "      <th>slug</th>\n",
       "      <th>state</th>\n",
       "      <th>usd_pledged</th>\n",
       "      <th>category_name</th>\n",
       "      <th>creator_name</th>\n",
       "      <th>location_name</th>\n",
       "      <th>location_state</th>\n",
       "      <th>created_at_rd</th>\n",
       "      <th>deadline_rd</th>\n",
       "      <th>launched_at_rd</th>\n",
       "      <th>state_changed_at_rd</th>\n",
       "      <th>usd_goal</th>\n",
       "      <th>duration_days</th>\n",
       "      <th>d_pledged_goal_usd</th>\n",
       "      <th>state_successful</th>\n",
       "    </tr>\n",
       "  </thead>\n",
       "  <tbody>\n",
       "    <tr>\n",
       "      <th>0</th>\n",
       "      <td>47</td>\n",
       "      <td>A colorful Dia de los Muertos themed oracle de...</td>\n",
       "      <td>US</td>\n",
       "      <td>928751314</td>\n",
       "      <td>The Ofrenda Oracle Deck</td>\n",
       "      <td>the-ofrenda-oracle-deck</td>\n",
       "      <td>successful</td>\n",
       "      <td>1950.0</td>\n",
       "      <td>Playing Cards</td>\n",
       "      <td>Lisa Vollrath</td>\n",
       "      <td>Euless</td>\n",
       "      <td>TX</td>\n",
       "      <td>Wed Aug  2 16:28:13 2017</td>\n",
       "      <td>Sat Sep  9 19:00:59 2017</td>\n",
       "      <td>Thu Aug 10 19:00:59 2017</td>\n",
       "      <td>Sat Sep  9 19:00:59 2017</td>\n",
       "      <td>1000.0</td>\n",
       "      <td>30.0</td>\n",
       "      <td>950.0</td>\n",
       "      <td>1</td>\n",
       "    </tr>\n",
       "  </tbody>\n",
       "</table>\n",
       "</div>"
      ],
      "text/plain": [
       "   backers_count                                              blurb country  \\\n",
       "0             47  A colorful Dia de los Muertos themed oracle de...      US   \n",
       "\n",
       "          id                     name                     slug       state  \\\n",
       "0  928751314  The Ofrenda Oracle Deck  the-ofrenda-oracle-deck  successful   \n",
       "\n",
       "   usd_pledged  category_name   creator_name location_name location_state  \\\n",
       "0       1950.0  Playing Cards  Lisa Vollrath        Euless             TX   \n",
       "\n",
       "              created_at_rd               deadline_rd  \\\n",
       "0  Wed Aug  2 16:28:13 2017  Sat Sep  9 19:00:59 2017   \n",
       "\n",
       "             launched_at_rd       state_changed_at_rd  usd_goal  \\\n",
       "0  Thu Aug 10 19:00:59 2017  Sat Sep  9 19:00:59 2017    1000.0   \n",
       "\n",
       "   duration_days  d_pledged_goal_usd  state_successful  \n",
       "0           30.0               950.0                 1  "
      ]
     },
     "execution_count": 5,
     "metadata": {},
     "output_type": "execute_result"
    }
   ],
   "source": [
    "df.head(1)"
   ]
  },
  {
   "cell_type": "code",
   "execution_count": 6,
   "metadata": {},
   "outputs": [],
   "source": [
    "#df.columns"
   ]
  },
  {
   "cell_type": "markdown",
   "metadata": {},
   "source": [
    "## Visualisation"
   ]
  },
  {
   "cell_type": "code",
   "execution_count": 7,
   "metadata": {},
   "outputs": [
    {
     "data": {
      "image/png": "[encoded data removed]",
      "text/plain": [
       "<Figure size 520.125x432 with 14 Axes>"
      ]
     },
     "metadata": {
      "needs_background": "light"
     },
     "output_type": "display_data"
    }
   ],
   "source": [
    "features = df[['usd_pledged', 'usd_goal', 'backers_count', 'state_successful', 'state']]\n",
    "sns.pairplot(features, hue='state',\n",
    "             diag_kind='hist', palette='rainbow',\n",
    "             height=1.5, corner=True);"
   ]
  },
  {
   "cell_type": "markdown",
   "metadata": {},
   "source": [
    "## Modelling & Regression"
   ]
  },
  {
   "cell_type": "code",
   "execution_count": 8,
   "metadata": {},
   "outputs": [],
   "source": [
    "# Define variables\n",
    "X = df[['usd_goal', 'backers_count', 'state_successful']]\n",
    "y = df['usd_pledged']"
   ]
  },
  {
   "cell_type": "code",
   "execution_count": 9,
   "metadata": {},
   "outputs": [],
   "source": [
    "# Splitting the model into test and train data\n",
    "X_train, X_test, y_train, y_test = train_test_split(X, y, test_size=0.25, random_state=1)"
   ]
  },
  {
   "cell_type": "code",
   "execution_count": 10,
   "metadata": {},
   "outputs": [
    {
     "data": {
      "text/plain": [
       "LinearRegression()"
      ]
     },
     "execution_count": 10,
     "metadata": {},
     "output_type": "execute_result"
    }
   ],
   "source": [
    "# 'Training' the model\n",
    "multi_lin_reg_mod = linear_model.LinearRegression()\n",
    "multi_lin_reg_mod.fit(X_train, y_train)"
   ]
  },
  {
   "cell_type": "code",
   "execution_count": 11,
   "metadata": {},
   "outputs": [],
   "source": [
    "y_pred = multi_lin_reg_mod.predict(X_test)"
   ]
  },
  {
   "cell_type": "code",
   "execution_count": 12,
   "metadata": {},
   "outputs": [
    {
     "data": {
      "text/plain": [
       "array([13037.70352164,  9093.65616685,  8752.62745661, ...,\n",
       "        3643.34909945,  -767.78455348, -1081.93559082])"
      ]
     },
     "execution_count": 12,
     "metadata": {},
     "output_type": "execute_result"
    }
   ],
   "source": [
    "y_pred"
   ]
  },
  {
   "cell_type": "markdown",
   "metadata": {},
   "source": [
    "## Model Evaluation"
   ]
  },
  {
   "cell_type": "code",
   "execution_count": 13,
   "metadata": {},
   "outputs": [
    {
     "data": {
      "text/html": [
       "<table class=\"simpletable\">\n",
       "<caption>OLS Regression Results</caption>\n",
       "<tr>\n",
       "  <th>Dep. Variable:</th>       <td>usd_pledged</td>   <th>  R-squared:         </th>  <td>   0.652</td>  \n",
       "</tr>\n",
       "<tr>\n",
       "  <th>Model:</th>                   <td>OLS</td>       <th>  Adj. R-squared:    </th>  <td>   0.652</td>  \n",
       "</tr>\n",
       "<tr>\n",
       "  <th>Method:</th>             <td>Least Squares</td>  <th>  F-statistic:       </th>  <td>1.038e+05</td> \n",
       "</tr>\n",
       "<tr>\n",
       "  <th>Date:</th>             <td>Tue, 03 Nov 2020</td> <th>  Prob (F-statistic):</th>   <td>  0.00</td>   \n",
       "</tr>\n",
       "<tr>\n",
       "  <th>Time:</th>                 <td>13:50:30</td>     <th>  Log-Likelihood:    </th> <td>-2.0333e+06</td>\n",
       "</tr>\n",
       "<tr>\n",
       "  <th>No. Observations:</th>      <td>166192</td>      <th>  AIC:               </th>  <td>4.067e+06</td> \n",
       "</tr>\n",
       "<tr>\n",
       "  <th>Df Residuals:</th>          <td>166188</td>      <th>  BIC:               </th>  <td>4.067e+06</td> \n",
       "</tr>\n",
       "<tr>\n",
       "  <th>Df Model:</th>              <td>     3</td>      <th>                     </th>      <td> </td>     \n",
       "</tr>\n",
       "<tr>\n",
       "  <th>Covariance Type:</th>      <td>nonrobust</td>    <th>                     </th>      <td> </td>     \n",
       "</tr>\n",
       "</table>\n",
       "<table class=\"simpletable\">\n",
       "<tr>\n",
       "          <td></td>            <th>coef</th>     <th>std err</th>      <th>t</th>      <th>P>|t|</th>  <th>[0.025</th>    <th>0.975]</th>  \n",
       "</tr>\n",
       "<tr>\n",
       "  <th>Intercept</th>        <td>-1142.6563</td> <td>  190.909</td> <td>   -5.985</td> <td> 0.000</td> <td>-1516.834</td> <td> -768.479</td>\n",
       "</tr>\n",
       "<tr>\n",
       "  <th>usd_goal</th>         <td>    0.0408</td> <td>    0.002</td> <td>   25.541</td> <td> 0.000</td> <td>    0.038</td> <td>    0.044</td>\n",
       "</tr>\n",
       "<tr>\n",
       "  <th>backers_count</th>    <td>   74.6905</td> <td>    0.139</td> <td>  539.124</td> <td> 0.000</td> <td>   74.419</td> <td>   74.962</td>\n",
       "</tr>\n",
       "<tr>\n",
       "  <th>state_successful</th> <td> 3650.6278</td> <td>  251.547</td> <td>   14.513</td> <td> 0.000</td> <td> 3157.601</td> <td> 4143.654</td>\n",
       "</tr>\n",
       "</table>\n",
       "<table class=\"simpletable\">\n",
       "<tr>\n",
       "  <th>Omnibus:</th>       <td>422318.013</td> <th>  Durbin-Watson:     </th>    <td>   2.001</td>    \n",
       "</tr>\n",
       "<tr>\n",
       "  <th>Prob(Omnibus):</th>   <td> 0.000</td>   <th>  Jarque-Bera (JB):  </th> <td>27953627151.480</td>\n",
       "</tr>\n",
       "<tr>\n",
       "  <th>Skew:</th>            <td>27.957</td>   <th>  Prob(JB):          </th>    <td>    0.00</td>    \n",
       "</tr>\n",
       "<tr>\n",
       "  <th>Kurtosis:</th>       <td>2011.406</td>  <th>  Cond. No.          </th>    <td>1.97e+05</td>    \n",
       "</tr>\n",
       "</table><br/><br/>Warnings:<br/>[1] Standard Errors assume that the covariance matrix of the errors is correctly specified.<br/>[2] The condition number is large, 1.97e+05. This might indicate that there are<br/>strong multicollinearity or other numerical problems."
      ],
      "text/plain": [
       "<class 'statsmodels.iolib.summary.Summary'>\n",
       "\"\"\"\n",
       "                            OLS Regression Results                            \n",
       "==============================================================================\n",
       "Dep. Variable:            usd_pledged   R-squared:                       0.652\n",
       "Model:                            OLS   Adj. R-squared:                  0.652\n",
       "Method:                 Least Squares   F-statistic:                 1.038e+05\n",
       "Date:                Tue, 03 Nov 2020   Prob (F-statistic):               0.00\n",
       "Time:                        13:50:30   Log-Likelihood:            -2.0333e+06\n",
       "No. Observations:              166192   AIC:                         4.067e+06\n",
       "Df Residuals:                  166188   BIC:                         4.067e+06\n",
       "Df Model:                           3                                         \n",
       "Covariance Type:            nonrobust                                         \n",
       "====================================================================================\n",
       "                       coef    std err          t      P>|t|      [0.025      0.975]\n",
       "------------------------------------------------------------------------------------\n",
       "Intercept        -1142.6563    190.909     -5.985      0.000   -1516.834    -768.479\n",
       "usd_goal             0.0408      0.002     25.541      0.000       0.038       0.044\n",
       "backers_count       74.6905      0.139    539.124      0.000      74.419      74.962\n",
       "state_successful  3650.6278    251.547     14.513      0.000    3157.601    4143.654\n",
       "==============================================================================\n",
       "Omnibus:                   422318.013   Durbin-Watson:                   2.001\n",
       "Prob(Omnibus):                  0.000   Jarque-Bera (JB):      27953627151.480\n",
       "Skew:                          27.957   Prob(JB):                         0.00\n",
       "Kurtosis:                    2011.406   Cond. No.                     1.97e+05\n",
       "==============================================================================\n",
       "\n",
       "Warnings:\n",
       "[1] Standard Errors assume that the covariance matrix of the errors is correctly specified.\n",
       "[2] The condition number is large, 1.97e+05. This might indicate that there are\n",
       "strong multicollinearity or other numerical problems.\n",
       "\"\"\""
      ]
     },
     "execution_count": 13,
     "metadata": {},
     "output_type": "execute_result"
    }
   ],
   "source": [
    "smf.ols(formula='usd_pledged ~ usd_goal + backers_count + state_successful',\n",
    "        data=df).fit().summary()"
   ]
  },
  {
   "cell_type": "markdown",
   "metadata": {},
   "source": [
    "## Model Optimization"
   ]
  },
  {
   "cell_type": "markdown",
   "metadata": {},
   "source": [
    "R Square measures how much of variability in dependent variable can be explained by the model.\n",
    "Adding the feature 'd_pledged_goal_usd' as a trial to optimize the models results leads to a R Square of 1, which is not realistic."
   ]
  }
 ],
 "metadata": {
  "kernelspec": {
   "display_name": "Python 3",
   "language": "python",
   "name": "python3"
  },
  "language_info": {
   "codemirror_mode": {
    "name": "ipython",
    "version": 3
   },
   "file_extension": ".py",
   "mimetype": "text/x-python",
   "name": "python",
   "nbconvert_exporter": "python",
   "pygments_lexer": "ipython3",
   "version": "3.8.3"
  }
 },
 "nbformat": 4,
 "nbformat_minor": 4
}
