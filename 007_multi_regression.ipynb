{
 "cells": [
  {
   "cell_type": "markdown",
   "metadata": {},
   "source": [
    "# Kickstarter - Multi Regression"
   ]
  },
  {
   "cell_type": "code",
   "execution_count": 7,
   "metadata": {},
   "outputs": [],
   "source": [
    "import pandas as pd\n",
    "import numpy as np\n",
    "\n",
    "# Modelling and evaluation libraries\n",
    "from sklearn import linear_model\n",
    "from sklearn.model_selection import train_test_split\n",
    "from sklearn import metrics\n",
    "from sklearn.metrics import r2_score\n",
    "import statsmodels.formula.api as smf\n",
    "\n",
    "# Visualisation\n",
    "import matplotlib.pyplot as plt\n",
    "import seaborn as sns\n",
    "\n",
    "%matplotlib inline"
   ]
  },
  {
   "cell_type": "markdown",
   "metadata": {},
   "source": [
    "## Read data"
   ]
  },
  {
   "cell_type": "code",
   "execution_count": 8,
   "metadata": {},
   "outputs": [],
   "source": [
    "df = pd.read_csv('data/Kickstarter_cleaned2.csv')\n",
    "df = df.drop(['Unnamed: 0'], axis=1)"
   ]
  },
  {
   "cell_type": "markdown",
   "metadata": {},
   "source": [
    "## Visualisation"
   ]
  },
  {
   "cell_type": "code",
   "execution_count": 11,
   "metadata": {},
   "outputs": [],
   "source": [
    "# Pairplot for selected features\n",
    "\n",
    "#features = ['category_parent_id', 'usd_goal', 'duration_days', 'duration_days_prep',\n",
    "#       'year_deadline', 'winter_deadline_True', 'spring_deadline_True',\n",
    "#       'summer_deadline_True', 'deadline_weekend_True',\n",
    "#       'launched_weekend_True', 'eastcoast_True', 'long_blurb_True',\n",
    "#       'long_name_True', 'state_b_True', 'long_creator_name_True']\n",
    "\n",
    "#sns.pairplot(features, diag_kind='hist', palette='rainbow', height=1.5, corner=True);"
   ]
  },
  {
   "cell_type": "markdown",
   "metadata": {},
   "source": [
    "## Modelling & Predicting"
   ]
  },
  {
   "cell_type": "code",
   "execution_count": 13,
   "metadata": {},
   "outputs": [],
   "source": [
    "# Define variables\n",
    "X = df[['category_parent_id', 'usd_goal', 'duration_days', 'duration_days_prep',\n",
    "       'year_deadline', 'winter_deadline_True', 'spring_deadline_True',\n",
    "       'summer_deadline_True', 'deadline_weekend_True',\n",
    "       'launched_weekend_True', 'eastcoast_True', 'long_blurb_True',\n",
    "       'long_name_True', 'long_creator_name_True']]\n",
    "y = df['usd_pledged']"
   ]
  },
  {
   "cell_type": "code",
   "execution_count": 14,
   "metadata": {},
   "outputs": [],
   "source": [
    "# Split the data set into test and train data\n",
    "X_train, X_test, y_train, y_test = train_test_split(X, y, test_size=0.25, random_state=1)"
   ]
  },
  {
   "cell_type": "code",
   "execution_count": 15,
   "metadata": {},
   "outputs": [
    {
     "data": {
      "text/plain": [
       "LinearRegression()"
      ]
     },
     "execution_count": 15,
     "metadata": {},
     "output_type": "execute_result"
    }
   ],
   "source": [
    "# Train model\n",
    "multi_lin_reg_mod = linear_model.LinearRegression()\n",
    "multi_lin_reg_mod.fit(X_train, y_train)"
   ]
  },
  {
   "cell_type": "code",
   "execution_count": 16,
   "metadata": {},
   "outputs": [],
   "source": [
    "# Predict target value\n",
    "y_pred = multi_lin_reg_mod.predict(X_test)"
   ]
  },
  {
   "cell_type": "markdown",
   "metadata": {},
   "source": [
    "## Results"
   ]
  },
  {
   "cell_type": "code",
   "execution_count": 23,
   "metadata": {},
   "outputs": [
    {
     "data": {
      "text/html": [
       "<table class=\"simpletable\">\n",
       "<caption>OLS Regression Results</caption>\n",
       "<tr>\n",
       "  <th>Dep. Variable:</th>       <td>usd_pledged</td>   <th>  R-squared:         </th>  <td>   0.026</td>  \n",
       "</tr>\n",
       "<tr>\n",
       "  <th>Model:</th>                   <td>OLS</td>       <th>  Adj. R-squared:    </th>  <td>   0.026</td>  \n",
       "</tr>\n",
       "<tr>\n",
       "  <th>Method:</th>             <td>Least Squares</td>  <th>  F-statistic:       </th>  <td>   726.3</td>  \n",
       "</tr>\n",
       "<tr>\n",
       "  <th>Date:</th>             <td>Wed, 04 Nov 2020</td> <th>  Prob (F-statistic):</th>   <td>  0.00</td>   \n",
       "</tr>\n",
       "<tr>\n",
       "  <th>Time:</th>                 <td>13:18:18</td>     <th>  Log-Likelihood:    </th> <td>-2.1188e+06</td>\n",
       "</tr>\n",
       "<tr>\n",
       "  <th>No. Observations:</th>      <td>166192</td>      <th>  AIC:               </th>  <td>4.238e+06</td> \n",
       "</tr>\n",
       "<tr>\n",
       "  <th>Df Residuals:</th>          <td>166185</td>      <th>  BIC:               </th>  <td>4.238e+06</td> \n",
       "</tr>\n",
       "<tr>\n",
       "  <th>Df Model:</th>              <td>     6</td>      <th>                     </th>      <td> </td>     \n",
       "</tr>\n",
       "<tr>\n",
       "  <th>Covariance Type:</th>      <td>nonrobust</td>    <th>                     </th>      <td> </td>     \n",
       "</tr>\n",
       "</table>\n",
       "<table class=\"simpletable\">\n",
       "<tr>\n",
       "           <td></td>             <th>coef</th>     <th>std err</th>      <th>t</th>      <th>P>|t|</th>  <th>[0.025</th>    <th>0.975]</th>  \n",
       "</tr>\n",
       "<tr>\n",
       "  <th>Intercept</th>          <td>-2.338e+06</td> <td> 2.17e+05</td> <td>  -10.781</td> <td> 0.000</td> <td>-2.76e+06</td> <td>-1.91e+06</td>\n",
       "</tr>\n",
       "<tr>\n",
       "  <th>usd_goal</th>           <td>    0.1633</td> <td>    0.003</td> <td>   62.375</td> <td> 0.000</td> <td>    0.158</td> <td>    0.168</td>\n",
       "</tr>\n",
       "<tr>\n",
       "  <th>category_parent_id</th> <td>  242.8708</td> <td>   32.578</td> <td>    7.455</td> <td> 0.000</td> <td>  179.019</td> <td>  306.723</td>\n",
       "</tr>\n",
       "<tr>\n",
       "  <th>duration_days</th>      <td>   32.7748</td> <td>   17.594</td> <td>    1.863</td> <td> 0.062</td> <td>   -1.710</td> <td>   67.260</td>\n",
       "</tr>\n",
       "<tr>\n",
       "  <th>duration_days_prep</th> <td>   14.1472</td> <td>    1.604</td> <td>    8.819</td> <td> 0.000</td> <td>   11.003</td> <td>   17.291</td>\n",
       "</tr>\n",
       "<tr>\n",
       "  <th>year_deadline</th>      <td> 1160.3945</td> <td>  107.551</td> <td>   10.789</td> <td> 0.000</td> <td>  949.597</td> <td> 1371.192</td>\n",
       "</tr>\n",
       "<tr>\n",
       "  <th>country_US_True</th>    <td> 4912.8317</td> <td>  472.774</td> <td>   10.392</td> <td> 0.000</td> <td> 3986.205</td> <td> 5839.458</td>\n",
       "</tr>\n",
       "</table>\n",
       "<table class=\"simpletable\">\n",
       "<tr>\n",
       "  <th>Omnibus:</th>       <td>463678.072</td> <th>  Durbin-Watson:     </th>    <td>   1.997</td>    \n",
       "</tr>\n",
       "<tr>\n",
       "  <th>Prob(Omnibus):</th>   <td> 0.000</td>   <th>  Jarque-Bera (JB):  </th> <td>32095947405.191</td>\n",
       "</tr>\n",
       "<tr>\n",
       "  <th>Skew:</th>            <td>36.068</td>   <th>  Prob(JB):          </th>    <td>    0.00</td>    \n",
       "</tr>\n",
       "<tr>\n",
       "  <th>Kurtosis:</th>       <td>2154.700</td>  <th>  Cond. No.          </th>    <td>8.58e+07</td>    \n",
       "</tr>\n",
       "</table><br/><br/>Notes:<br/>[1] Standard Errors assume that the covariance matrix of the errors is correctly specified.<br/>[2] The condition number is large, 8.58e+07. This might indicate that there are<br/>strong multicollinearity or other numerical problems."
      ],
      "text/plain": [
       "<class 'statsmodels.iolib.summary.Summary'>\n",
       "\"\"\"\n",
       "                            OLS Regression Results                            \n",
       "==============================================================================\n",
       "Dep. Variable:            usd_pledged   R-squared:                       0.026\n",
       "Model:                            OLS   Adj. R-squared:                  0.026\n",
       "Method:                 Least Squares   F-statistic:                     726.3\n",
       "Date:                Wed, 04 Nov 2020   Prob (F-statistic):               0.00\n",
       "Time:                        13:18:18   Log-Likelihood:            -2.1188e+06\n",
       "No. Observations:              166192   AIC:                         4.238e+06\n",
       "Df Residuals:                  166185   BIC:                         4.238e+06\n",
       "Df Model:                           6                                         \n",
       "Covariance Type:            nonrobust                                         \n",
       "======================================================================================\n",
       "                         coef    std err          t      P>|t|      [0.025      0.975]\n",
       "--------------------------------------------------------------------------------------\n",
       "Intercept          -2.338e+06   2.17e+05    -10.781      0.000   -2.76e+06   -1.91e+06\n",
       "usd_goal               0.1633      0.003     62.375      0.000       0.158       0.168\n",
       "category_parent_id   242.8708     32.578      7.455      0.000     179.019     306.723\n",
       "duration_days         32.7748     17.594      1.863      0.062      -1.710      67.260\n",
       "duration_days_prep    14.1472      1.604      8.819      0.000      11.003      17.291\n",
       "year_deadline       1160.3945    107.551     10.789      0.000     949.597    1371.192\n",
       "country_US_True     4912.8317    472.774     10.392      0.000    3986.205    5839.458\n",
       "==============================================================================\n",
       "Omnibus:                   463678.072   Durbin-Watson:                   1.997\n",
       "Prob(Omnibus):                  0.000   Jarque-Bera (JB):      32095947405.191\n",
       "Skew:                          36.068   Prob(JB):                         0.00\n",
       "Kurtosis:                    2154.700   Cond. No.                     8.58e+07\n",
       "==============================================================================\n",
       "\n",
       "Notes:\n",
       "[1] Standard Errors assume that the covariance matrix of the errors is correctly specified.\n",
       "[2] The condition number is large, 8.58e+07. This might indicate that there are\n",
       "strong multicollinearity or other numerical problems.\n",
       "\"\"\""
      ]
     },
     "execution_count": 23,
     "metadata": {},
     "output_type": "execute_result"
    }
   ],
   "source": [
    "smf.ols(formula='usd_pledged ~ usd_goal + category_parent_id + duration_days + duration_days_prep + year_deadline + country_US_True',\n",
    "        data=df).fit().summary()"
   ]
  },
  {
   "cell_type": "code",
   "execution_count": 24,
   "metadata": {},
   "outputs": [
    {
     "name": "stdout",
     "output_type": "stream",
     "text": [
      "Mean of usd_pledged:\n",
      " 12297\n",
      "Mean Absolute Error:\n",
      " 16666\n",
      "Mean Squared Error:\n",
      " 7057384247\n",
      "Root Mean Squared Error:\n",
      " 84008\n",
      "R^2:\n",
      " 0.04\n"
     ]
    }
   ],
   "source": [
    "# Calculate r^2\n",
    "r2 = r2_score(y_test, y_pred, multioutput='uniform_average')\n",
    "\n",
    "# Return evaluation\n",
    "print('Mean of usd_pledged:\\n', round(df.usd_pledged.mean()))\n",
    "print('Mean Absolute Error:\\n', round(metrics.mean_absolute_error(y_test, y_pred)))\n",
    "print('Mean Squared Error:\\n', round(metrics.mean_squared_error(y_test, y_pred)))\n",
    "print('Root Mean Squared Error:\\n', round(np.sqrt(metrics.mean_squared_error(y_test, y_pred))))\n",
    "print('R^2:\\n', round(r2,ndigits=2))"
   ]
  },
  {
   "cell_type": "markdown",
   "metadata": {},
   "source": [
    "**Description:**<br/>\n",
    "* In general **'R Squared'** tells you how related two things are, like correlation. 'R Squared' is the percentage of variation (i.e. varies from 0 to 1) explained by the relationship between two or more variables. So, it measures how much of variability in the dependent variable can be explained by the model.\n",
    "* The 'R Squared' for this model - with its maximum numeric feature combination - is very low.\n",
    "* With decreasing number of features the 'R Squared' decreses. E.g. X = df[[usd_goal', 'duration_days', 'duration_days_prep']]"
   ]
  },
  {
   "cell_type": "markdown",
   "metadata": {},
   "source": [
    "**Conclusion:**<br/>\n",
    "* With a **'R Squared' of 4%**, only 4% of the variability of the dependet variables can be explained by the model.\n",
    "* Therefore, the model (Multi-Linear_Regression) with its features is not suitable of predicting the pledged amount in USD. **The model is underfitting**\n",
    "* Probabliy because the numeric variables are mainly from a categorical nature.\n",
    "* Using other regression models like **polynomial regression** might increas the quality predicting the pledged amount."
   ]
  }
 ],
 "metadata": {
  "kernelspec": {
   "display_name": "Python 3",
   "language": "python",
   "name": "python3"
  },
  "language_info": {
   "codemirror_mode": {
    "name": "ipython",
    "version": 3
   },
   "file_extension": ".py",
   "mimetype": "text/x-python",
   "name": "python",
   "nbconvert_exporter": "python",
   "pygments_lexer": "ipython3",
   "version": "3.8.5"
  }
 },
 "nbformat": 4,
 "nbformat_minor": 4
}
