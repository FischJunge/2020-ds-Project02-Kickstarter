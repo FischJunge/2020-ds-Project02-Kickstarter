{
 "cells": [
  {
   "cell_type": "markdown",
   "metadata": {},
   "source": [
    "# Kickstarter - Multi Regression"
   ]
  },
  {
   "cell_type": "code",
   "execution_count": 10,
   "metadata": {},
   "outputs": [],
   "source": [
    "import pandas as pd\n",
    "import numpy as np\n",
    "\n",
    "# Modelling and evaluation libraries\n",
    "from sklearn import linear_model\n",
    "from sklearn.model_selection import train_test_split\n",
    "from sklearn.metrics import r2_score\n",
    "from sklearn import metrics\n",
    "#import statsmodels.formula.api as smf\n",
    "\n",
    "# Visualisation\n",
    "import matplotlib.pyplot as plt\n",
    "import seaborn as sns\n",
    "\n",
    "%matplotlib inline"
   ]
  },
  {
   "cell_type": "markdown",
   "metadata": {},
   "source": [
    "## Read data"
   ]
  },
  {
   "cell_type": "code",
   "execution_count": 11,
   "metadata": {},
   "outputs": [],
   "source": [
    "df = pd.read_csv('data/Kickstarter_cleaned.csv')\n",
    "df = df.drop(['Unnamed: 0'], axis=1)"
   ]
  },
  {
   "cell_type": "code",
   "execution_count": 12,
   "metadata": {},
   "outputs": [
    {
     "data": {
      "text/html": [
       "<div>\n",
       "<style scoped>\n",
       "    .dataframe tbody tr th:only-of-type {\n",
       "        vertical-align: middle;\n",
       "    }\n",
       "\n",
       "    .dataframe tbody tr th {\n",
       "        vertical-align: top;\n",
       "    }\n",
       "\n",
       "    .dataframe thead th {\n",
       "        text-align: right;\n",
       "    }\n",
       "</style>\n",
       "<table border=\"1\" class=\"dataframe\">\n",
       "  <thead>\n",
       "    <tr style=\"text-align: right;\">\n",
       "      <th></th>\n",
       "      <th>backers_count</th>\n",
       "      <th>blurb</th>\n",
       "      <th>country</th>\n",
       "      <th>id</th>\n",
       "      <th>name</th>\n",
       "      <th>slug</th>\n",
       "      <th>state</th>\n",
       "      <th>usd_pledged</th>\n",
       "      <th>category_name</th>\n",
       "      <th>creator_name</th>\n",
       "      <th>location_name</th>\n",
       "      <th>location_state</th>\n",
       "      <th>created_at_rd</th>\n",
       "      <th>deadline_rd</th>\n",
       "      <th>launched_at_rd</th>\n",
       "      <th>state_changed_at_rd</th>\n",
       "      <th>usd_goal</th>\n",
       "      <th>duration_days</th>\n",
       "      <th>d_pledged_goal_usd</th>\n",
       "    </tr>\n",
       "  </thead>\n",
       "  <tbody>\n",
       "    <tr>\n",
       "      <th>0</th>\n",
       "      <td>47</td>\n",
       "      <td>A colorful Dia de los Muertos themed oracle de...</td>\n",
       "      <td>US</td>\n",
       "      <td>928751314</td>\n",
       "      <td>The Ofrenda Oracle Deck</td>\n",
       "      <td>the-ofrenda-oracle-deck</td>\n",
       "      <td>successful</td>\n",
       "      <td>1950.0</td>\n",
       "      <td>Playing Cards</td>\n",
       "      <td>Lisa Vollrath</td>\n",
       "      <td>Euless</td>\n",
       "      <td>TX</td>\n",
       "      <td>Wed Aug  2 16:28:13 2017</td>\n",
       "      <td>Sat Sep  9 19:00:59 2017</td>\n",
       "      <td>Thu Aug 10 19:00:59 2017</td>\n",
       "      <td>Sat Sep  9 19:00:59 2017</td>\n",
       "      <td>1000.0</td>\n",
       "      <td>30.0</td>\n",
       "      <td>950.0</td>\n",
       "    </tr>\n",
       "  </tbody>\n",
       "</table>\n",
       "</div>"
      ],
      "text/plain": [
       "   backers_count                                              blurb country  \\\n",
       "0             47  A colorful Dia de los Muertos themed oracle de...      US   \n",
       "\n",
       "          id                     name                     slug       state  \\\n",
       "0  928751314  The Ofrenda Oracle Deck  the-ofrenda-oracle-deck  successful   \n",
       "\n",
       "   usd_pledged  category_name   creator_name location_name location_state  \\\n",
       "0       1950.0  Playing Cards  Lisa Vollrath        Euless             TX   \n",
       "\n",
       "              created_at_rd               deadline_rd  \\\n",
       "0  Wed Aug  2 16:28:13 2017  Sat Sep  9 19:00:59 2017   \n",
       "\n",
       "             launched_at_rd       state_changed_at_rd  usd_goal  \\\n",
       "0  Thu Aug 10 19:00:59 2017  Sat Sep  9 19:00:59 2017    1000.0   \n",
       "\n",
       "   duration_days  d_pledged_goal_usd  \n",
       "0           30.0               950.0  "
      ]
     },
     "execution_count": 12,
     "metadata": {},
     "output_type": "execute_result"
    }
   ],
   "source": [
    "df.head(1)"
   ]
  },
  {
   "cell_type": "markdown",
   "metadata": {},
   "source": [
    "## Dummy creation"
   ]
  },
  {
   "cell_type": "code",
   "execution_count": 13,
   "metadata": {},
   "outputs": [],
   "source": [
    "# Create dummies\n",
    "dummies = pd.get_dummies(df.state, prefix='state', drop_first=True)\n",
    "\n",
    "# Concatinate dummies to data frame\n",
    "df = pd.concat([df, dummies], axis=1)"
   ]
  },
  {
   "cell_type": "code",
   "execution_count": 14,
   "metadata": {},
   "outputs": [
    {
     "data": {
      "text/html": [
       "<div>\n",
       "<style scoped>\n",
       "    .dataframe tbody tr th:only-of-type {\n",
       "        vertical-align: middle;\n",
       "    }\n",
       "\n",
       "    .dataframe tbody tr th {\n",
       "        vertical-align: top;\n",
       "    }\n",
       "\n",
       "    .dataframe thead th {\n",
       "        text-align: right;\n",
       "    }\n",
       "</style>\n",
       "<table border=\"1\" class=\"dataframe\">\n",
       "  <thead>\n",
       "    <tr style=\"text-align: right;\">\n",
       "      <th></th>\n",
       "      <th>backers_count</th>\n",
       "      <th>blurb</th>\n",
       "      <th>country</th>\n",
       "      <th>id</th>\n",
       "      <th>name</th>\n",
       "      <th>slug</th>\n",
       "      <th>state</th>\n",
       "      <th>usd_pledged</th>\n",
       "      <th>category_name</th>\n",
       "      <th>creator_name</th>\n",
       "      <th>location_name</th>\n",
       "      <th>location_state</th>\n",
       "      <th>created_at_rd</th>\n",
       "      <th>deadline_rd</th>\n",
       "      <th>launched_at_rd</th>\n",
       "      <th>state_changed_at_rd</th>\n",
       "      <th>usd_goal</th>\n",
       "      <th>duration_days</th>\n",
       "      <th>d_pledged_goal_usd</th>\n",
       "      <th>state_successful</th>\n",
       "    </tr>\n",
       "  </thead>\n",
       "  <tbody>\n",
       "    <tr>\n",
       "      <th>0</th>\n",
       "      <td>47</td>\n",
       "      <td>A colorful Dia de los Muertos themed oracle de...</td>\n",
       "      <td>US</td>\n",
       "      <td>928751314</td>\n",
       "      <td>The Ofrenda Oracle Deck</td>\n",
       "      <td>the-ofrenda-oracle-deck</td>\n",
       "      <td>successful</td>\n",
       "      <td>1950.0</td>\n",
       "      <td>Playing Cards</td>\n",
       "      <td>Lisa Vollrath</td>\n",
       "      <td>Euless</td>\n",
       "      <td>TX</td>\n",
       "      <td>Wed Aug  2 16:28:13 2017</td>\n",
       "      <td>Sat Sep  9 19:00:59 2017</td>\n",
       "      <td>Thu Aug 10 19:00:59 2017</td>\n",
       "      <td>Sat Sep  9 19:00:59 2017</td>\n",
       "      <td>1000.0</td>\n",
       "      <td>30.0</td>\n",
       "      <td>950.0</td>\n",
       "      <td>1</td>\n",
       "    </tr>\n",
       "  </tbody>\n",
       "</table>\n",
       "</div>"
      ],
      "text/plain": [
       "   backers_count                                              blurb country  \\\n",
       "0             47  A colorful Dia de los Muertos themed oracle de...      US   \n",
       "\n",
       "          id                     name                     slug       state  \\\n",
       "0  928751314  The Ofrenda Oracle Deck  the-ofrenda-oracle-deck  successful   \n",
       "\n",
       "   usd_pledged  category_name   creator_name location_name location_state  \\\n",
       "0       1950.0  Playing Cards  Lisa Vollrath        Euless             TX   \n",
       "\n",
       "              created_at_rd               deadline_rd  \\\n",
       "0  Wed Aug  2 16:28:13 2017  Sat Sep  9 19:00:59 2017   \n",
       "\n",
       "             launched_at_rd       state_changed_at_rd  usd_goal  \\\n",
       "0  Thu Aug 10 19:00:59 2017  Sat Sep  9 19:00:59 2017    1000.0   \n",
       "\n",
       "   duration_days  d_pledged_goal_usd  state_successful  \n",
       "0           30.0               950.0                 1  "
      ]
     },
     "execution_count": 14,
     "metadata": {},
     "output_type": "execute_result"
    }
   ],
   "source": [
    "df.head(1)"
   ]
  },
  {
   "cell_type": "code",
   "execution_count": 15,
   "metadata": {},
   "outputs": [],
   "source": [
    "#df.columns"
   ]
  },
  {
   "cell_type": "markdown",
   "metadata": {},
   "source": [
    "## Visualisation"
   ]
  },
  {
   "cell_type": "code",
   "execution_count": null,
   "metadata": {},
   "outputs": [],
   "source": [
    "features = df[['usd_pledged', 'usd_goal', 'backers_count', 'state_successful', 'state']]\n",
    "sns.pairplot(features, hue='state',\n",
    "             diag_kind='hist', palette='rainbow',\n",
    "             height=1.5, corner=True);"
   ]
  },
  {
   "cell_type": "markdown",
   "metadata": {},
   "source": [
    "## Modelling"
   ]
  },
  {
   "cell_type": "code",
   "execution_count": null,
   "metadata": {},
   "outputs": [],
   "source": [
    "# Define variables\n",
    "X = df[['usd_goal', 'backers_count', 'state_successful']]\n",
    "y = df['usd_pledged']"
   ]
  },
  {
   "cell_type": "code",
   "execution_count": null,
   "metadata": {},
   "outputs": [],
   "source": [
    "# Splitting the model into test and train data\n",
    "X_train, X_test, y_train, y_test = train_test_split(X, y, test_size=0.25, random_state=1)"
   ]
  },
  {
   "cell_type": "code",
   "execution_count": null,
   "metadata": {},
   "outputs": [],
   "source": [
    "# Train the model\n",
    "multi_lin_reg_mod = linear_model.LinearRegression()\n",
    "multi_lin_reg_mod.fit(X_train, y_train)"
   ]
  },
  {
   "cell_type": "code",
   "execution_count": null,
   "metadata": {},
   "outputs": [],
   "source": [
    "y_pred = multi_lin_reg_mod.predict(X_test)"
   ]
  },
  {
   "cell_type": "markdown",
   "metadata": {},
   "source": [
    "## Model Evaluation"
   ]
  },
  {
   "cell_type": "code",
   "execution_count": null,
   "metadata": {},
   "outputs": [],
   "source": [
    "smf.ols(formula='usd_pledged ~ usd_goal + backers_count + state_successful',\n",
    "        data=df).fit().summary()"
   ]
  },
  {
   "cell_type": "code",
   "execution_count": null,
   "metadata": {},
   "outputs": [],
   "source": [
    "r2 = r2_score(y_test, y_pred, multioutput='uniform_average')\n",
    "\n",
    "print('Mean Absolute Error:', metrics.mean_absolute_error(y_test, y_pred))\n",
    "print('Mean Squared Error:', metrics.mean_squared_error(y_test, y_pred))\n",
    "print('Root Mean Squared Error:', np.sqrt(metrics.mean_squared_error(y_test, y_pred)))\n",
    "print('Mean of usd_pledged:', df.usd_pledged.mean())\n",
    "print('R^2:', r2)"
   ]
  },
  {
   "cell_type": "markdown",
   "metadata": {},
   "source": [
    "## Model Optimization"
   ]
  },
  {
   "cell_type": "markdown",
   "metadata": {},
   "source": [
    "R Square measures how much of variability in dependent variable can be explained by the model.\n",
    "Adding the feature 'd_pledged_goal_usd' as a trial to optimize the models results leads to a R Square of 1, which is not realistic."
   ]
  }
 ],
 "metadata": {
  "kernelspec": {
   "display_name": "Python 3",
   "language": "python",
   "name": "python3"
  },
  "language_info": {
   "codemirror_mode": {
    "name": "ipython",
    "version": 3
   },
   "file_extension": ".py",
   "mimetype": "text/x-python",
   "name": "python",
   "nbconvert_exporter": "python",
   "pygments_lexer": "ipython3",
   "version": "3.8.5"
  }
 },
 "nbformat": 4,
 "nbformat_minor": 4
}
