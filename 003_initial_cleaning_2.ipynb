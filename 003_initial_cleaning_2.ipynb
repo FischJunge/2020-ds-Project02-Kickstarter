{
 "cells": [
  {
   "cell_type": "markdown",
   "metadata": {},
   "source": [
    "# Initial data cleaning"
   ]
  },
  {
   "cell_type": "code",
   "execution_count": 1,
   "metadata": {},
   "outputs": [],
   "source": [
    "# Importing libraries\n",
    "import numpy as np\n",
    "import pandas as pd\n",
    "import json\n",
    "import time"
   ]
  },
  {
   "cell_type": "code",
   "execution_count": 2,
   "metadata": {},
   "outputs": [],
   "source": [
    "# Loading dataset and dropping the first column, because it contains rownumbers\n",
    "df = pd.read_csv('data/Kickstarter_merged.csv')\n",
    "df = df.drop(columns='Unnamed: 0')"
   ]
  },
  {
   "cell_type": "markdown",
   "metadata": {},
   "source": [
    "### Cleaning step 1a: dropping columns with many missing data"
   ]
  },
  {
   "cell_type": "code",
   "execution_count": 3,
   "metadata": {},
   "outputs": [],
   "source": [
    "# Checking for missing values\n",
    "#df.info()"
   ]
  },
  {
   "cell_type": "code",
   "execution_count": 4,
   "metadata": {},
   "outputs": [
    {
     "data": {
      "text/plain": [
       "0.14338836260049134"
      ]
     },
     "execution_count": 4,
     "metadata": {},
     "output_type": "execute_result"
    }
   ],
   "source": [
    "# Computing percentage of non-null values\n",
    "((df.shape[0]-df.friends.isnull().sum())/df.shape[0])*100"
   ]
  },
  {
   "cell_type": "markdown",
   "metadata": {},
   "source": [
    "Drop the columns **friends**, **is_backing**, **is_starred** and **permissions**, because these contain only 0.14% non-null values."
   ]
  },
  {
   "cell_type": "code",
   "execution_count": 5,
   "metadata": {},
   "outputs": [],
   "source": [
    "# Deleting columns friends, is_backing, is_starred and permissions\n",
    "df = df.drop(columns=['friends','is_backing','is_starred','permissions'])"
   ]
  },
  {
   "cell_type": "code",
   "execution_count": 6,
   "metadata": {},
   "outputs": [],
   "source": [
    "# Looking at the values in the first 10 rows of each column\n",
    "#df.iloc[0:10, 0:11]\n",
    "#df.iloc[0:10, 11:21]\n",
    "#df.iloc[0:10, 21:33]"
   ]
  },
  {
   "cell_type": "markdown",
   "metadata": {},
   "source": [
    "### Cleaning step 1b: dropping useless columns\n",
    "Drop the columns **currency_symbol** (we have the currency code), **photo** (contains urls), **profile** (contains much missing data), **source_url** and **urls**, because these contain urls."
   ]
  },
  {
   "cell_type": "code",
   "execution_count": 7,
   "metadata": {},
   "outputs": [],
   "source": [
    "# Deleting columns currency_symbol, photo, profile, source_url and urls\n",
    "df = df.drop(columns=['currency_symbol','photo','profile','source_url','urls'])"
   ]
  },
  {
   "cell_type": "markdown",
   "metadata": {},
   "source": [
    "### Cleaning step 2\n",
    "Get relevant values from JSON dictionaries in columns **category**, **creator** and **location**.\n",
    "#### Category"
   ]
  },
  {
   "cell_type": "code",
   "execution_count": 8,
   "metadata": {},
   "outputs": [
    {
     "data": {
      "text/plain": [
       "'{\"id\":266,\"name\":\"Footwear\",\"slug\":\"fashion/footwear\",\"position\":5,\"parent_id\":9,\"color\":16752598,\"urls\":{\"web\":{\"discover\":\"http://www.kickstarter.com/discover/categories/fashion/footwear\"}}}'"
      ]
     },
     "execution_count": 8,
     "metadata": {},
     "output_type": "execute_result"
    }
   ],
   "source": [
    "# Looking for keys of relevant values\n",
    "df.category[0]"
   ]
  },
  {
   "cell_type": "markdown",
   "metadata": {},
   "source": [
    "\"name\", \"id\" and \"parent_id\" are the only relevant keys in category."
   ]
  },
  {
   "cell_type": "code",
   "execution_count": 9,
   "metadata": {},
   "outputs": [
    {
     "name": "stdout",
     "output_type": "stream",
     "text": [
      "Footwear\n",
      "266\n",
      "9\n"
     ]
    }
   ],
   "source": [
    "# Getting the first value of name out of JSON formatted dictionary\n",
    "ca = json.loads(df.category[0])\n",
    "print(ca.get(\"name\"))\n",
    "print(ca.get(\"id\"))\n",
    "print(ca.get(\"parent_id\"))"
   ]
  },
  {
   "cell_type": "code",
   "execution_count": 10,
   "metadata": {},
   "outputs": [
    {
     "name": "stderr",
     "output_type": "stream",
     "text": [
      "<ipython-input-10-726a65a5ef5e>:8: SettingWithCopyWarning: \n",
      "A value is trying to be set on a copy of a slice from a DataFrame\n",
      "\n",
      "See the caveats in the documentation: https://pandas.pydata.org/pandas-docs/stable/user_guide/indexing.html#returning-a-view-versus-a-copy\n",
      "  df.category_name[i] = dict_cat.get(\"name\")\n",
      "<ipython-input-10-726a65a5ef5e>:9: SettingWithCopyWarning: \n",
      "A value is trying to be set on a copy of a slice from a DataFrame\n",
      "\n",
      "See the caveats in the documentation: https://pandas.pydata.org/pandas-docs/stable/user_guide/indexing.html#returning-a-view-versus-a-copy\n",
      "  df.category_id[i] = dict_cat.get(\"id\")\n",
      "<ipython-input-10-726a65a5ef5e>:10: SettingWithCopyWarning: \n",
      "A value is trying to be set on a copy of a slice from a DataFrame\n",
      "\n",
      "See the caveats in the documentation: https://pandas.pydata.org/pandas-docs/stable/user_guide/indexing.html#returning-a-view-versus-a-copy\n",
      "  df.category_parent_id[i] = dict_cat.get(\"parent_id\")\n"
     ]
    }
   ],
   "source": [
    "# Extract the category name and make a new column with the category name\n",
    "df[\"category_name\"] = \"\"\n",
    "df[\"category_id\"] = \"\"\n",
    "df[\"category_parent_id\"] = \"\"\n",
    "for i in range(len(df.category)):\n",
    "    try:\n",
    "        dict_cat = json.loads(df.category[i])\n",
    "        df.category_name[i] = dict_cat.get(\"name\")\n",
    "        df.category_id[i] = dict_cat.get(\"id\")\n",
    "        df.category_parent_id[i] = dict_cat.get(\"parent_id\")\n",
    "    except:\n",
    "        df.category_name[i] = NaN\n",
    "        df.category_id[i] = NaN\n",
    "        df.category_parent_id[i] = NaN\n",
    "\n",
    "# Drop the original column 'category'.\n",
    "df = df.drop(columns='category')"
   ]
  },
  {
   "cell_type": "code",
   "execution_count": 21,
   "metadata": {},
   "outputs": [
    {
     "data": {
      "text/plain": [
       "169"
      ]
     },
     "execution_count": 21,
     "metadata": {},
     "output_type": "execute_result"
    }
   ],
   "source": [
    "df.category_id.nunique()"
   ]
  },
  {
   "cell_type": "markdown",
   "metadata": {},
   "source": [
    "#### Creator"
   ]
  },
  {
   "cell_type": "code",
   "execution_count": 11,
   "metadata": {},
   "outputs": [
    {
     "data": {
      "text/plain": [
       "'{\"id\":2094277840,\"name\":\"Lucy Conroy\",\"slug\":\"babalus\",\"is_registered\":null,\"chosen_currency\":null,\"avatar\":{\"thumb\":\"https://ksr-ugc.imgix.net/assets/023/784/556/6ed11b25c853ec1aef7f4360d0eb59ef_original.jpg?ixlib=rb-1.1.0&w=40&h=40&fit=crop&v=1548222691&auto=format&frame=1&q=92&s=b64463d8ae6195f7aeb62393e2ca2dde\",\"small\":\"https://ksr-ugc.imgix.net/assets/023/784/556/6ed11b25c853ec1aef7f4360d0eb59ef_original.jpg?ixlib=rb-1.1.0&w=160&h=160&fit=crop&v=1548222691&auto=format&frame=1&q=92&s=00bc518b23a932bd76fb6e21f4eb6834\",\"medium\":\"https://ksr-ugc.imgix.net/assets/023/784/556/6ed11b25c853ec1aef7f4360d0eb59ef_original.jpg?ixlib=rb-1.1.0&w=160&h=160&fit=crop&v=1548222691&auto=format&frame=1&q=92&s=00bc518b23a932bd76fb6e21f4eb6834\"},\"urls\":{\"web\":{\"user\":\"https://www.kickstarter.com/profile/babalus\"},\"api\":{\"user\":\"https://api.kickstarter.com/v1/users/2094277840?signature=1552621545.c7a32fed985a78dec253fe61c1acb7a99edbc0af\"}}}'"
      ]
     },
     "execution_count": 11,
     "metadata": {},
     "output_type": "execute_result"
    }
   ],
   "source": [
    "# Looking for keys of relevant values\n",
    "df.creator[0]"
   ]
  },
  {
   "cell_type": "markdown",
   "metadata": {},
   "source": [
    "\"name\" is the only relevant key in creator."
   ]
  },
  {
   "cell_type": "code",
   "execution_count": 12,
   "metadata": {},
   "outputs": [
    {
     "name": "stdout",
     "output_type": "stream",
     "text": [
      "Lucy Conroy\n"
     ]
    }
   ],
   "source": [
    "# Getting the first value of name out of JSON formatted library\n",
    "cr = json.loads(df.creator[0])\n",
    "print(cr.get(\"name\"))"
   ]
  },
  {
   "cell_type": "code",
   "execution_count": 13,
   "metadata": {},
   "outputs": [
    {
     "name": "stderr",
     "output_type": "stream",
     "text": [
      "<ipython-input-13-68874684677f>:6: SettingWithCopyWarning: \n",
      "A value is trying to be set on a copy of a slice from a DataFrame\n",
      "\n",
      "See the caveats in the documentation: https://pandas.pydata.org/pandas-docs/stable/user_guide/indexing.html#returning-a-view-versus-a-copy\n",
      "  df.creator_name[j] = dict_cre.get(\"name\")\n",
      "<ipython-input-13-68874684677f>:8: SettingWithCopyWarning: \n",
      "A value is trying to be set on a copy of a slice from a DataFrame\n",
      "\n",
      "See the caveats in the documentation: https://pandas.pydata.org/pandas-docs/stable/user_guide/indexing.html#returning-a-view-versus-a-copy\n",
      "  df.creator_name[j] = 'NaN'\n"
     ]
    }
   ],
   "source": [
    "# Extracting the creator name and make a new column with the creator name\n",
    "df[\"creator_name\"] = \"\"\n",
    "for j in range(len(df.creator)):\n",
    "    try:\n",
    "        dict_cre = json.loads(df.creator[j])\n",
    "        df.creator_name[j] = dict_cre.get(\"name\")\n",
    "    except:\n",
    "        df.creator_name[j] = 'NaN'\n",
    "\n",
    "# Drop the original column 'creator'.\n",
    "df = df.drop(columns='creator')"
   ]
  },
  {
   "cell_type": "markdown",
   "metadata": {},
   "source": [
    "#### Location"
   ]
  },
  {
   "cell_type": "code",
   "execution_count": 14,
   "metadata": {},
   "outputs": [
    {
     "data": {
      "text/plain": [
       "'{\"id\":2462429,\"name\":\"Novato\",\"slug\":\"novato-ca\",\"short_name\":\"Novato, CA\",\"displayable_name\":\"Novato, CA\",\"localized_name\":\"Novato\",\"country\":\"US\",\"state\":\"CA\",\"type\":\"Town\",\"is_root\":false,\"urls\":{\"web\":{\"discover\":\"https://www.kickstarter.com/discover/places/novato-ca\",\"location\":\"https://www.kickstarter.com/locations/novato-ca\"},\"api\":{\"nearby_projects\":\"https://api.kickstarter.com/v1/discover?signature=1552595066.49b64db66a5124f5831752d055cd09aff20cc652&woe_id=2462429\"}}}'"
      ]
     },
     "execution_count": 14,
     "metadata": {},
     "output_type": "execute_result"
    }
   ],
   "source": [
    "# Looking for keys of relevant values.\n",
    "df.location[0]"
   ]
  },
  {
   "cell_type": "markdown",
   "metadata": {},
   "source": [
    "\"name\" and \"state\" are the only relevant keys in location."
   ]
  },
  {
   "cell_type": "code",
   "execution_count": 15,
   "metadata": {},
   "outputs": [
    {
     "name": "stdout",
     "output_type": "stream",
     "text": [
      "Novato\n",
      "CA\n"
     ]
    }
   ],
   "source": [
    "# Getting the first values of name and state out of JSON formatted library\n",
    "lo = json.loads(df.location[0])\n",
    "print(lo.get(\"name\"))\n",
    "print(lo.get(\"state\"))"
   ]
  },
  {
   "cell_type": "code",
   "execution_count": 16,
   "metadata": {},
   "outputs": [
    {
     "name": "stderr",
     "output_type": "stream",
     "text": [
      "<ipython-input-16-5e1071aa2d8c>:7: SettingWithCopyWarning: \n",
      "A value is trying to be set on a copy of a slice from a DataFrame\n",
      "\n",
      "See the caveats in the documentation: https://pandas.pydata.org/pandas-docs/stable/user_guide/indexing.html#returning-a-view-versus-a-copy\n",
      "  df.location_name[k] = dict_loc.get(\"name\")\n",
      "<ipython-input-16-5e1071aa2d8c>:8: SettingWithCopyWarning: \n",
      "A value is trying to be set on a copy of a slice from a DataFrame\n",
      "\n",
      "See the caveats in the documentation: https://pandas.pydata.org/pandas-docs/stable/user_guide/indexing.html#returning-a-view-versus-a-copy\n",
      "  df.location_state[k] = dict_loc.get(\"state\")\n",
      "<ipython-input-16-5e1071aa2d8c>:10: SettingWithCopyWarning: \n",
      "A value is trying to be set on a copy of a slice from a DataFrame\n",
      "\n",
      "See the caveats in the documentation: https://pandas.pydata.org/pandas-docs/stable/user_guide/indexing.html#returning-a-view-versus-a-copy\n",
      "  df.location_name[k] = 'NaN'\n",
      "<ipython-input-16-5e1071aa2d8c>:11: SettingWithCopyWarning: \n",
      "A value is trying to be set on a copy of a slice from a DataFrame\n",
      "\n",
      "See the caveats in the documentation: https://pandas.pydata.org/pandas-docs/stable/user_guide/indexing.html#returning-a-view-versus-a-copy\n",
      "  df.location_state[k] = 'NaN'\n"
     ]
    }
   ],
   "source": [
    "# Extracting the location name and state and make new columns with the location name and state\n",
    "df[\"location_name\"] = \"\"\n",
    "df[\"location_state\"] = \"\"\n",
    "for k in range(len(df.location)):\n",
    "    try:\n",
    "        dict_loc = json.loads(df.location[k])\n",
    "        df.location_name[k] = dict_loc.get(\"name\")\n",
    "        df.location_state[k] = dict_loc.get(\"state\")\n",
    "    except:\n",
    "        df.location_name[k] = 'NaN'\n",
    "        df.location_state[k] = 'NaN'\n",
    "        \n",
    "# Drop the original column 'location'.\n",
    "df = df.drop(columns='location')"
   ]
  },
  {
   "cell_type": "markdown",
   "metadata": {},
   "source": [
    "### Cleaning step 3\n",
    "Deal with UNIX time stamps in columns **created_at**, **deadline**, **launched_at** and **state_changed_at**."
   ]
  },
  {
   "cell_type": "code",
   "execution_count": 17,
   "metadata": {},
   "outputs": [
    {
     "name": "stderr",
     "output_type": "stream",
     "text": [
      "<ipython-input-17-3b3e1ca9a54b>:9: SettingWithCopyWarning: \n",
      "A value is trying to be set on a copy of a slice from a DataFrame\n",
      "\n",
      "See the caveats in the documentation: https://pandas.pydata.org/pandas-docs/stable/user_guide/indexing.html#returning-a-view-versus-a-copy\n",
      "  df.created_at_rd[l] = time.ctime(df.created_at[l])\n",
      "<ipython-input-17-3b3e1ca9a54b>:10: SettingWithCopyWarning: \n",
      "A value is trying to be set on a copy of a slice from a DataFrame\n",
      "\n",
      "See the caveats in the documentation: https://pandas.pydata.org/pandas-docs/stable/user_guide/indexing.html#returning-a-view-versus-a-copy\n",
      "  df.deadline_rd[l] = time.ctime(df.deadline[l])\n",
      "<ipython-input-17-3b3e1ca9a54b>:11: SettingWithCopyWarning: \n",
      "A value is trying to be set on a copy of a slice from a DataFrame\n",
      "\n",
      "See the caveats in the documentation: https://pandas.pydata.org/pandas-docs/stable/user_guide/indexing.html#returning-a-view-versus-a-copy\n",
      "  df.launched_at_rd[l] = time.ctime(df.launched_at[l])\n",
      "<ipython-input-17-3b3e1ca9a54b>:12: SettingWithCopyWarning: \n",
      "A value is trying to be set on a copy of a slice from a DataFrame\n",
      "\n",
      "See the caveats in the documentation: https://pandas.pydata.org/pandas-docs/stable/user_guide/indexing.html#returning-a-view-versus-a-copy\n",
      "  df.state_changed_at_rd[l] = time.ctime(df.state_changed_at[l])\n"
     ]
    }
   ],
   "source": [
    "# Computing readable time based on UNIX time stamps and make new columns with readable time stamps\n",
    "df[\"created_at_rd\"] = \"\"\n",
    "df[\"deadline_rd\"] = \"\"\n",
    "df[\"launched_at_rd\"] = \"\"\n",
    "df[\"state_changed_at_rd\"] = \"\"\n",
    "\n",
    "for l in range(len(df.created_at)):\n",
    "    try:\n",
    "        df.created_at_rd[l] = time.ctime(df.created_at[l])\n",
    "        df.deadline_rd[l] = time.ctime(df.deadline[l])\n",
    "        df.launched_at_rd[l] = time.ctime(df.launched_at[l])\n",
    "        df.state_changed_at_rd[l] = time.ctime(df.state_changed_at[l])\n",
    "    except:\n",
    "        df.created_at_rd[l] = 'NaN'\n",
    "        df.deadline_rd[l] = 'NaN'\n",
    "        df.launched_at_rd[l] = 'NaN'\n",
    "        df.state_changed_at_rd[l] = 'NaN'"
   ]
  },
  {
   "cell_type": "markdown",
   "metadata": {},
   "source": [
    "### Check the new columns"
   ]
  },
  {
   "cell_type": "code",
   "execution_count": 19,
   "metadata": {},
   "outputs": [
    {
     "data": {
      "text/html": [
       "<div>\n",
       "<style scoped>\n",
       "    .dataframe tbody tr th:only-of-type {\n",
       "        vertical-align: middle;\n",
       "    }\n",
       "\n",
       "    .dataframe tbody tr th {\n",
       "        vertical-align: top;\n",
       "    }\n",
       "\n",
       "    .dataframe thead th {\n",
       "        text-align: right;\n",
       "    }\n",
       "</style>\n",
       "<table border=\"1\" class=\"dataframe\">\n",
       "  <thead>\n",
       "    <tr style=\"text-align: right;\">\n",
       "      <th></th>\n",
       "      <th>category_name</th>\n",
       "      <th>category_id</th>\n",
       "      <th>category_parent_id</th>\n",
       "      <th>creator_name</th>\n",
       "      <th>location_name</th>\n",
       "      <th>location_state</th>\n",
       "      <th>created_at_rd</th>\n",
       "      <th>deadline_rd</th>\n",
       "    </tr>\n",
       "  </thead>\n",
       "  <tbody>\n",
       "    <tr>\n",
       "      <th>0</th>\n",
       "      <td>Footwear</td>\n",
       "      <td>266</td>\n",
       "      <td>9</td>\n",
       "      <td>Lucy Conroy</td>\n",
       "      <td>Novato</td>\n",
       "      <td>CA</td>\n",
       "      <td>Tue Nov  6 00:06:45 2018</td>\n",
       "      <td>Thu Mar 14 06:02:55 2019</td>\n",
       "    </tr>\n",
       "    <tr>\n",
       "      <th>1</th>\n",
       "      <td>Playing Cards</td>\n",
       "      <td>273</td>\n",
       "      <td>12</td>\n",
       "      <td>Lisa Vollrath</td>\n",
       "      <td>Euless</td>\n",
       "      <td>TX</td>\n",
       "      <td>Wed Aug  2 16:28:13 2017</td>\n",
       "      <td>Sat Sep  9 19:00:59 2017</td>\n",
       "    </tr>\n",
       "    <tr>\n",
       "      <th>2</th>\n",
       "      <td>Rock</td>\n",
       "      <td>43</td>\n",
       "      <td>14</td>\n",
       "      <td>Electra</td>\n",
       "      <td>Hollywood</td>\n",
       "      <td>CA</td>\n",
       "      <td>Sun Sep 30 08:45:33 2012</td>\n",
       "      <td>Wed Jun 12 07:03:15 2013</td>\n",
       "    </tr>\n",
       "    <tr>\n",
       "      <th>3</th>\n",
       "      <td>Playing Cards</td>\n",
       "      <td>273</td>\n",
       "      <td>12</td>\n",
       "      <td>Artur Ordijanc (deleted)</td>\n",
       "      <td>Kaunas</td>\n",
       "      <td>Kaunas County</td>\n",
       "      <td>Sat Jan  7 10:11:11 2017</td>\n",
       "      <td>Mon Mar 13 18:22:56 2017</td>\n",
       "    </tr>\n",
       "    <tr>\n",
       "      <th>4</th>\n",
       "      <td>Nonfiction</td>\n",
       "      <td>48</td>\n",
       "      <td>18</td>\n",
       "      <td>Dawn Johnston</td>\n",
       "      <td>Traverse City</td>\n",
       "      <td>MI</td>\n",
       "      <td>Thu Dec  6 19:04:31 2012</td>\n",
       "      <td>Wed Jan  9 21:32:07 2013</td>\n",
       "    </tr>\n",
       "    <tr>\n",
       "      <th>5</th>\n",
       "      <td>Classical Music</td>\n",
       "      <td>36</td>\n",
       "      <td>14</td>\n",
       "      <td>Annapolis Chamber Players</td>\n",
       "      <td>Annapolis</td>\n",
       "      <td>MD</td>\n",
       "      <td>Fri Oct 24 19:35:50 2014</td>\n",
       "      <td>Sat May  2 04:25:46 2015</td>\n",
       "    </tr>\n",
       "    <tr>\n",
       "      <th>6</th>\n",
       "      <td>Classical Music</td>\n",
       "      <td>36</td>\n",
       "      <td>14</td>\n",
       "      <td>The Tekalli Duo</td>\n",
       "      <td>New Haven</td>\n",
       "      <td>CT</td>\n",
       "      <td>Sun Sep  1 03:12:35 2013</td>\n",
       "      <td>Sat Oct 12 03:12:00 2013</td>\n",
       "    </tr>\n",
       "    <tr>\n",
       "      <th>7</th>\n",
       "      <td>Music</td>\n",
       "      <td>14</td>\n",
       "      <td>None</td>\n",
       "      <td>funktoast</td>\n",
       "      <td>Kaysville</td>\n",
       "      <td>UT</td>\n",
       "      <td>Tue Jan  8 17:38:03 2019</td>\n",
       "      <td>Wed Feb 13 15:15:05 2019</td>\n",
       "    </tr>\n",
       "    <tr>\n",
       "      <th>8</th>\n",
       "      <td>Immersive</td>\n",
       "      <td>283</td>\n",
       "      <td>17</td>\n",
       "      <td>Overflow Theatre Company</td>\n",
       "      <td>Northampton</td>\n",
       "      <td>England</td>\n",
       "      <td>Thu Mar 24 12:20:44 2016</td>\n",
       "      <td>Wed May 11 01:00:00 2016</td>\n",
       "    </tr>\n",
       "    <tr>\n",
       "      <th>9</th>\n",
       "      <td>Accessories</td>\n",
       "      <td>262</td>\n",
       "      <td>9</td>\n",
       "      <td>Lauren Ackerley</td>\n",
       "      <td>Wolverhampton</td>\n",
       "      <td>England</td>\n",
       "      <td>Wed Jan  9 23:05:06 2019</td>\n",
       "      <td>Wed Feb 20 14:00:01 2019</td>\n",
       "    </tr>\n",
       "  </tbody>\n",
       "</table>\n",
       "</div>"
      ],
      "text/plain": [
       "     category_name category_id category_parent_id               creator_name  \\\n",
       "0         Footwear         266                  9                Lucy Conroy   \n",
       "1    Playing Cards         273                 12              Lisa Vollrath   \n",
       "2             Rock          43                 14                    Electra   \n",
       "3    Playing Cards         273                 12   Artur Ordijanc (deleted)   \n",
       "4       Nonfiction          48                 18              Dawn Johnston   \n",
       "5  Classical Music          36                 14  Annapolis Chamber Players   \n",
       "6  Classical Music          36                 14            The Tekalli Duo   \n",
       "7            Music          14               None                  funktoast   \n",
       "8        Immersive         283                 17   Overflow Theatre Company   \n",
       "9      Accessories         262                  9            Lauren Ackerley   \n",
       "\n",
       "   location_name location_state             created_at_rd  \\\n",
       "0         Novato             CA  Tue Nov  6 00:06:45 2018   \n",
       "1         Euless             TX  Wed Aug  2 16:28:13 2017   \n",
       "2      Hollywood             CA  Sun Sep 30 08:45:33 2012   \n",
       "3         Kaunas  Kaunas County  Sat Jan  7 10:11:11 2017   \n",
       "4  Traverse City             MI  Thu Dec  6 19:04:31 2012   \n",
       "5      Annapolis             MD  Fri Oct 24 19:35:50 2014   \n",
       "6      New Haven             CT  Sun Sep  1 03:12:35 2013   \n",
       "7      Kaysville             UT  Tue Jan  8 17:38:03 2019   \n",
       "8    Northampton        England  Thu Mar 24 12:20:44 2016   \n",
       "9  Wolverhampton        England  Wed Jan  9 23:05:06 2019   \n",
       "\n",
       "                deadline_rd  \n",
       "0  Thu Mar 14 06:02:55 2019  \n",
       "1  Sat Sep  9 19:00:59 2017  \n",
       "2  Wed Jun 12 07:03:15 2013  \n",
       "3  Mon Mar 13 18:22:56 2017  \n",
       "4  Wed Jan  9 21:32:07 2013  \n",
       "5  Sat May  2 04:25:46 2015  \n",
       "6  Sat Oct 12 03:12:00 2013  \n",
       "7  Wed Feb 13 15:15:05 2019  \n",
       "8  Wed May 11 01:00:00 2016  \n",
       "9  Wed Feb 20 14:00:01 2019  "
      ]
     },
     "execution_count": 19,
     "metadata": {},
     "output_type": "execute_result"
    }
   ],
   "source": [
    "df.iloc[0:10, 25:35]"
   ]
  },
  {
   "cell_type": "code",
   "execution_count": 20,
   "metadata": {},
   "outputs": [],
   "source": [
    "# Save the initially cleaned dataset\n",
    "df.to_csv('data/Kickstarter_init_cleaned2.csv')"
   ]
  },
  {
   "cell_type": "code",
   "execution_count": null,
   "metadata": {},
   "outputs": [],
   "source": []
  }
 ],
 "metadata": {
  "kernelspec": {
   "display_name": "Python 3",
   "language": "python",
   "name": "python3"
  },
  "language_info": {
   "codemirror_mode": {
    "name": "ipython",
    "version": 3
   },
   "file_extension": ".py",
   "mimetype": "text/x-python",
   "name": "python",
   "nbconvert_exporter": "python",
   "pygments_lexer": "ipython3",
   "version": "3.8.3"
  }
 },
 "nbformat": 4,
 "nbformat_minor": 4
}
