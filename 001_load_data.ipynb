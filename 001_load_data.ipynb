{
 "cells": [
  {
   "cell_type": "markdown",
   "metadata": {},
   "source": [
    "# Load and Merge .csv-files"
   ]
  },
  {
   "cell_type": "code",
   "execution_count": 76,
   "metadata": {},
   "outputs": [],
   "source": [
    "import numpy as np\n",
    "import pandas as pd\n",
    "import os\n",
    "import glob"
   ]
  },
  {
   "cell_type": "code",
   "execution_count": 67,
   "metadata": {},
   "outputs": [],
   "source": [
    "# Return shape of individual data sets\n",
    "#for i in range(0,10):\n",
    "#    i = str(i)\n",
    "#    source = 'data/Kickstarter00'+i+'.csv'\n",
    "#    print(source)\n",
    "#    print(pd.read_csv(source).shape)\n",
    "#for i in range(10,56):\n",
    "#    i = str(i)\n",
    "#    source = 'data/Kickstarter0'+i+'.csv'\n",
    "#    print(source)\n",
    "#    print(pd.read_csv(source).shape)"
   ]
  },
  {
   "cell_type": "code",
   "execution_count": 68,
   "metadata": {},
   "outputs": [],
   "source": [
    "# Merge individual csv-files and generate new merged .csv\n",
    "\n",
    "#path = \"/Users/michaelleder/neuefische/2020-ds-Project02-Kickstarter/data/\"\n",
    "\n",
    "#all_files = glob.glob(os.path.join(path, \"Kickstarter*.csv\"))\n",
    "#df_from_each_file = (pd.read_csv(f, sep=',') for f in all_files)\n",
    "\n",
    "# Merge data sets\n",
    "#df_merged = pd.concat(df_from_each_file, ignore_index=True)\n",
    "\n",
    "# Export merged single merged csv\n",
    "#df_merged.to_csv('data/Kickstarter_merged.csv')"
   ]
  }
 ],
 "metadata": {
  "kernelspec": {
   "display_name": "Python 3",
   "language": "python",
   "name": "python3"
  },
  "language_info": {
   "codemirror_mode": {
    "name": "ipython",
    "version": 3
   },
   "file_extension": ".py",
   "mimetype": "text/x-python",
   "name": "python",
   "nbconvert_exporter": "python",
   "pygments_lexer": "ipython3",
   "version": "3.8.5"
  }
 },
 "nbformat": 4,
 "nbformat_minor": 4
}
