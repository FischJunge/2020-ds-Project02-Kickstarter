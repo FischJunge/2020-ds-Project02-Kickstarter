{
 "cells": [
  {
   "cell_type": "markdown",
   "metadata": {},
   "source": [
    "# Merge .csv-files"
   ]
  },
  {
   "cell_type": "code",
   "execution_count": 1,
   "metadata": {},
   "outputs": [],
   "source": [
    "import pandas as pd\n",
    "import os, glob\n",
    "\n",
    "from pathlib import Path"
   ]
  },
  {
   "cell_type": "code",
   "execution_count": 2,
   "metadata": {},
   "outputs": [
    {
     "data": {
      "text/plain": [
       "'/Users/jakoliendenhollander/neuefische/2020-ds-Project02-Kickstarter'"
      ]
     },
     "execution_count": 2,
     "metadata": {},
     "output_type": "execute_result"
    }
   ],
   "source": [
    "pwd"
   ]
  },
  {
   "cell_type": "code",
   "execution_count": 3,
   "metadata": {},
   "outputs": [],
   "source": [
    "# Read and merge .csv-files\n",
    "path = '/Users/jakoliendenhollander/neuefische/2020-ds-Project02-Kickstarter/data/'\n",
    "\n",
    "# Read all .csv-files\n",
    "#all_files = glob.glob(os.path.join(path, \"Kickstarter*.csv\"))\n",
    "#df_from_each_file = (pd.read_csv(f, sep=',') for f in all_files)\n",
    "\n",
    "# Merge .csv-files\n",

    "df_merged = pd.concat(df_from_each_file, ignore_index=True)\n",
    "df_merged.to_csv('data/Kickstarter_merged.csv')"
   ]
  },
  {
   "source": [
    "# Extended Version of reading several .csv-files\n",
    "\n",
    "def read_files():\n",
    "    '''Only create new csv if not already done.\n",
    "    Otherwise just read in dataframe from merged .csv file.\n",
    "    '''\n",
    "    if not Path('./2020-ds-Project02-Kickstarter/data/Kickstarter_merged.csv').exists():\n",
    "       \n",
    "        # Read all .csv-files\n",
    "        all_files = glob.glob(os.path.join(path, \"Kickstarter*.csv\"))\n",
    "        df_from_each_file = (pd.read_csv(f, sep=',') for f in all_files)\n",
    "\n",
    "        # Merge all .csv-files\n",
    "        df_merged = pd.concat(df_from_each_file, ignore_index=True)\n",
    "        df_merged.to_csv('./2020-ds-Project02-Kickstarter/data/Kickstarter_merged.csv')\n",
    "\n",
    "    return pd.read_csv('./Kickstarter/data/Kickstarter_merged.csv', index_col=0)\n",
    "\n",
    "    else:\n",
    "    df = read_files()"
   ],
   "cell_type": "code",
   "metadata": {},
   "execution_count": null,
   "outputs": []
  },
  {
   "source": [],
   "cell_type": "markdown",
   "metadata": {}
  }
 ],
 "metadata": {
  "kernelspec": {
   "display_name": "Python 3",
   "language": "python",
   "name": "python3"
  },
  "language_info": {
   "codemirror_mode": {
    "name": "ipython",
    "version": 3
   },
   "file_extension": ".py",
   "mimetype": "text/x-python",
   "name": "python",
   "nbconvert_exporter": "python",
   "pygments_lexer": "ipython3",
   "version": "3.8.5"
  }
 },
 "nbformat": 4,
 "nbformat_minor": 4
}