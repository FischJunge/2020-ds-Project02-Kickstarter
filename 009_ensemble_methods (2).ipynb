{
 "cells": [
  {
   "cell_type": "markdown",
   "metadata": {},
   "source": [
    "# Kickstarter - Ensemlbe Method (Random Forest)"
   ]
  },
  {
   "cell_type": "code",
   "execution_count": 1,
   "metadata": {},
   "outputs": [],
   "source": [
    "import pandas as pd\n",
    "import numpy as np\n",
    "\n",
    "# Modelling and evaluation libraries\n",
    "from sklearn.model_selection import train_test_split\n",
    "from sklearn.ensemble import RandomForestRegressor #Regressor! NOT Classifier!\n",
    "from sklearn import metrics\n",
    "from sklearn.metrics import r2_score\n",
    "\n",
    "# Scaling\n",
    "from sklearn.preprocessing import RobustScaler\n",
    "\n",
    "# Preprocessing\n",
    "from sklearn import preprocessing\n",
    "from sklearn import utils\n",
    "\n",
    "# Visualisation\n",
    "import matplotlib.pyplot as plt\n",
    "import seaborn as sns\n",
    "%matplotlib inline"
   ]
  },
  {
   "cell_type": "markdown",
   "metadata": {},
   "source": [
    "## Read data"
   ]
  },
  {
   "cell_type": "code",
   "execution_count": 2,
   "metadata": {},
   "outputs": [],
   "source": [
    "df = pd.read_csv('data/Kickstarter_cleaned.csv')\n",
    "df = df.drop(['Unnamed: 0'], axis=1)"
   ]
  },
  {
   "cell_type": "markdown",
   "metadata": {},
   "source": [
    "## Dummy creation"
   ]
  },
  {
   "cell_type": "code",
   "execution_count": 3,
   "metadata": {},
   "outputs": [
    {
     "data": {
      "text/html": [
       "<div>\n",
       "<style scoped>\n",
       "    .dataframe tbody tr th:only-of-type {\n",
       "        vertical-align: middle;\n",
       "    }\n",
       "\n",
       "    .dataframe tbody tr th {\n",
       "        vertical-align: top;\n",
       "    }\n",
       "\n",
       "    .dataframe thead th {\n",
       "        text-align: right;\n",
       "    }\n",
       "</style>\n",
       "<table border=\"1\" class=\"dataframe\">\n",
       "  <thead>\n",
       "    <tr style=\"text-align: right;\">\n",
       "      <th></th>\n",
       "      <th>backers_count</th>\n",
       "      <th>blurb</th>\n",
       "      <th>country</th>\n",
       "      <th>id</th>\n",
       "      <th>name</th>\n",
       "      <th>slug</th>\n",
       "      <th>state</th>\n",
       "      <th>usd_pledged</th>\n",
       "      <th>category_name</th>\n",
       "      <th>creator_name</th>\n",
       "      <th>location_name</th>\n",
       "      <th>location_state</th>\n",
       "      <th>created_at_rd</th>\n",
       "      <th>deadline_rd</th>\n",
       "      <th>launched_at_rd</th>\n",
       "      <th>state_changed_at_rd</th>\n",
       "      <th>usd_goal</th>\n",
       "      <th>duration_days</th>\n",
       "      <th>d_pledged_goal_usd</th>\n",
       "      <th>state_successful</th>\n",
       "    </tr>\n",
       "  </thead>\n",
       "  <tbody>\n",
       "    <tr>\n",
       "      <th>0</th>\n",
       "      <td>47</td>\n",
       "      <td>A colorful Dia de los Muertos themed oracle de...</td>\n",
       "      <td>US</td>\n",
       "      <td>928751314</td>\n",
       "      <td>The Ofrenda Oracle Deck</td>\n",
       "      <td>the-ofrenda-oracle-deck</td>\n",
       "      <td>successful</td>\n",
       "      <td>1950.0</td>\n",
       "      <td>Playing Cards</td>\n",
       "      <td>Lisa Vollrath</td>\n",
       "      <td>Euless</td>\n",
       "      <td>TX</td>\n",
       "      <td>Wed Aug  2 16:28:13 2017</td>\n",
       "      <td>Sat Sep  9 19:00:59 2017</td>\n",
       "      <td>Thu Aug 10 19:00:59 2017</td>\n",
       "      <td>Sat Sep  9 19:00:59 2017</td>\n",
       "      <td>1000.0</td>\n",
       "      <td>30.0</td>\n",
       "      <td>950.0</td>\n",
       "      <td>1</td>\n",
       "    </tr>\n",
       "    <tr>\n",
       "      <th>1</th>\n",
       "      <td>271</td>\n",
       "      <td>Electra's long awaited, eclectic Debut Pop/Roc...</td>\n",
       "      <td>US</td>\n",
       "      <td>928014092</td>\n",
       "      <td>Record Electra's Debut Album (Pop, Rock, Class...</td>\n",
       "      <td>record-electras-debut-album-pop-rock-classical</td>\n",
       "      <td>successful</td>\n",
       "      <td>22404.0</td>\n",
       "      <td>Rock</td>\n",
       "      <td>Electra</td>\n",
       "      <td>Hollywood</td>\n",
       "      <td>CA</td>\n",
       "      <td>Sun Sep 30 08:45:33 2012</td>\n",
       "      <td>Wed Jun 12 07:03:15 2013</td>\n",
       "      <td>Mon May 13 07:03:15 2013</td>\n",
       "      <td>Wed Jun 12 07:03:15 2013</td>\n",
       "      <td>15000.0</td>\n",
       "      <td>30.0</td>\n",
       "      <td>7404.0</td>\n",
       "      <td>1</td>\n",
       "    </tr>\n",
       "  </tbody>\n",
       "</table>\n",
       "</div>"
      ],
      "text/plain": [
       "   backers_count                                              blurb country  \\\n",
       "0             47  A colorful Dia de los Muertos themed oracle de...      US   \n",
       "1            271  Electra's long awaited, eclectic Debut Pop/Roc...      US   \n",
       "\n",
       "          id                                               name  \\\n",
       "0  928751314                            The Ofrenda Oracle Deck   \n",
       "1  928014092  Record Electra's Debut Album (Pop, Rock, Class...   \n",
       "\n",
       "                                             slug       state  usd_pledged  \\\n",
       "0                         the-ofrenda-oracle-deck  successful       1950.0   \n",
       "1  record-electras-debut-album-pop-rock-classical  successful      22404.0   \n",
       "\n",
       "   category_name   creator_name location_name location_state  \\\n",
       "0  Playing Cards  Lisa Vollrath        Euless             TX   \n",
       "1           Rock        Electra     Hollywood             CA   \n",
       "\n",
       "              created_at_rd               deadline_rd  \\\n",
       "0  Wed Aug  2 16:28:13 2017  Sat Sep  9 19:00:59 2017   \n",
       "1  Sun Sep 30 08:45:33 2012  Wed Jun 12 07:03:15 2013   \n",
       "\n",
       "             launched_at_rd       state_changed_at_rd  usd_goal  \\\n",
       "0  Thu Aug 10 19:00:59 2017  Sat Sep  9 19:00:59 2017    1000.0   \n",
       "1  Mon May 13 07:03:15 2013  Wed Jun 12 07:03:15 2013   15000.0   \n",
       "\n",
       "   duration_days  d_pledged_goal_usd  state_successful  \n",
       "0           30.0               950.0                 1  \n",
       "1           30.0              7404.0                 1  "
      ]
     },
     "execution_count": 3,
     "metadata": {},
     "output_type": "execute_result"
    }
   ],
   "source": [
    "# Create dummies\n",
    "dummies = pd.get_dummies(df.state, prefix='state', drop_first=True)\n",
    "\n",
    "# Concatinate dummies to data frame\n",
    "df = pd.concat([df, dummies], axis=1)\n",
    "\n",
    "df.head(2)"
   ]
  },
  {
   "cell_type": "markdown",
   "metadata": {},
   "source": [
    "## Visualisation"
   ]
  },
  {
   "cell_type": "code",
   "execution_count": 4,
   "metadata": {},
   "outputs": [
    {
     "data": {
      "text/plain": [
       "Index(['backers_count', 'blurb', 'country', 'id', 'name', 'slug', 'state',\n",
       "       'usd_pledged', 'category_name', 'creator_name', 'location_name',\n",
       "       'location_state', 'created_at_rd', 'deadline_rd', 'launched_at_rd',\n",
       "       'state_changed_at_rd', 'usd_goal', 'duration_days',\n",
       "       'd_pledged_goal_usd', 'state_successful'],\n",
       "      dtype='object')"
      ]
     },
     "execution_count": 4,
     "metadata": {},
     "output_type": "execute_result"
    }
   ],
   "source": [
    "df.columns"
   ]
  },
  {
   "cell_type": "markdown",
   "metadata": {},
   "source": [
    "## Modelling"
   ]
  },
  {
   "cell_type": "code",
   "execution_count": 5,
   "metadata": {},
   "outputs": [],
   "source": [
    "# Global random_state\n",
    "rand = 1\n",
    "\n",
    "# Define variables\n",
    "X = df[['usd_goal', 'backers_count', 'state_successful']]\n",
    "y = df['usd_pledged']\n",
    "\n",
    "#y = np.array(df_new.pop('state'))"
   ]
  },
  {
   "cell_type": "code",
   "execution_count": 6,
   "metadata": {},
   "outputs": [],
   "source": [
    "# Splitting the model into test and train data\n",
    "X_train, X_test, y_train, y_test = train_test_split(X, y, test_size=0.25, random_state=rand)"
   ]
  },
  {
   "cell_type": "markdown",
   "metadata": {},
   "source": [
    "### Scaling x-values"
   ]
  },
  {
   "cell_type": "code",
   "execution_count": 7,
   "metadata": {},
   "outputs": [],
   "source": [
    "# Define columns to scale\n",
    "col_scale = ['backers_count', 'usd_goal']\n",
    "\n",
    "# Scale columns\n",
    "scaler = RobustScaler()\n",
    "X_train_scaled = scaler.fit_transform(X_train[col_scale])\n",
    "X_test_scaled = scaler.transform(X_test[col_scale])\n",
    "\n",
    "# Concatenating scaled and dummy columns \n",
    "X_train_preprocessed = np.concatenate([X_train_scaled, X_train.drop(col_scale, axis=1)], axis=1)\n",
    "X_test_preprocessed = np.concatenate([X_test_scaled, X_test.drop(col_scale, axis=1)], axis=1)"
   ]
  },
  {
   "cell_type": "code",
   "execution_count": 8,
   "metadata": {},
   "outputs": [],
   "source": [
    "# Define columns to scale\n",
    "#col_scale = ['usd_pledged']\n",
    "\n",
    "# Scale columns\n",
    "#scaler = RobustScaler()\n",
    "#y_train_scaled = scaler.transform(y_train[col_scale])\n",
    "#y_test_scaled = scaler.transform(y_test[col_scale])\n",
    "\n",
    "# Concatenating scaled and dummy columns \n",
    "#y_train_preprocessed = np.concatenate([y_train_scaled, y_train.drop(col_scale, axis=1)], axis=1)\n",
    "#y_test_preprocessed = np.concatenate([y_test_scaled, y_test.drop(col_scale, axis=1)], axis=1)"
   ]
  },
  {
   "cell_type": "code",
   "execution_count": 9,
   "metadata": {},
   "outputs": [],
   "source": [
    "# Prevent ValueError: Unknown label type: 'continuous'\n",
    "\n",
    "#lab_enc = preprocessing.LabelEncoder()\n",
    "#y_train_encoded = lab_enc.fit_transform(y_train)\n",
    "#print(y_train_encoded)\n",
    "#print(utils.multiclass.type_of_target(y_train))\n",
    "#print(utils.multiclass.type_of_target(y_train.astype('int')))\n",
    "#print(utils.multiclass.type_of_target(y_train_encoded))"
   ]
  },
  {
   "cell_type": "code",
   "execution_count": 10,
   "metadata": {},
   "outputs": [
    {
     "name": "stderr",
     "output_type": "stream",
     "text": [
      "[Parallel(n_jobs=1)]: Using backend SequentialBackend with 1 concurrent workers.\n",
      "[Parallel(n_jobs=1)]: Done 200 out of 200 | elapsed:   17.5s finished\n"
     ]
    },
    {
     "data": {
      "text/plain": [
       "RandomForestRegressor(max_features='sqrt', n_estimators=200, n_jobs=1,\n",
       "                      random_state=1, verbose=1)"
      ]
     },
     "execution_count": 10,
     "metadata": {},
     "output_type": "execute_result"
    }
   ],
   "source": [
    "# Train the model\n",
    "rforest = RandomForestRegressor(max_features='sqrt', n_estimators=200, n_jobs=1,\n",
    "                                 verbose=1, random_state=rand)\n",
    "rforest.fit(X_train_scaled, y_train)"
   ]
  },
  {
   "cell_type": "code",
   "execution_count": 11,
   "metadata": {},
   "outputs": [
    {
     "name": "stderr",
     "output_type": "stream",
     "text": [
      "[Parallel(n_jobs=1)]: Using backend SequentialBackend with 1 concurrent workers.\n",
      "[Parallel(n_jobs=1)]: Done 200 out of 200 | elapsed:    2.5s finished\n"
     ]
    }
   ],
   "source": [
    "y_pred = rforest.predict(X_test_scaled)"
   ]
  },
  {
   "cell_type": "markdown",
   "metadata": {},
   "source": [
    "## Model Evaluation"
   ]
  },
  {
   "cell_type": "code",
   "execution_count": 12,
   "metadata": {},
   "outputs": [
    {
     "name": "stdout",
     "output_type": "stream",
     "text": [
      "Mean Absolute Error: 6090.130405353872\n",
      "Mean Squared Error: 2578174633.9328074\n",
      "Root Mean Squared Error: 50775.72878780577\n",
      "Mean of usd_pledged: 12297.144432358278\n"
     ]
    }
   ],
   "source": [
    "print('Mean Absolute Error:', metrics.mean_absolute_error(y_test, y_pred))\n",
    "print('Mean Squared Error:', metrics.mean_squared_error(y_test, y_pred))\n",
    "print('Root Mean Squared Error:', np.sqrt(metrics.mean_squared_error(y_test, y_pred)))\n",
    "print('Mean of usd_pledged:', df.usd_pledged.mean())"
   ]
  },
  {
   "cell_type": "markdown",
   "metadata": {},
   "source": [
    "## Model Optimization"
   ]
  },
  {
   "cell_type": "code",
   "execution_count": 13,
   "metadata": {},
   "outputs": [
    {
     "data": {
      "text/plain": [
       "0.647510376918945"
      ]
     },
     "execution_count": 13,
     "metadata": {},
     "output_type": "execute_result"
    }
   ],
   "source": [
    "r2 = r2_score(y_test, y_pred, multioutput='uniform_average')\n",
    "r2"
   ]
  },
  {
   "cell_type": "markdown",
   "metadata": {},
   "source": [
    "R Square measures how much of variability in dependent variable can be explained by the model. "
   ]
  },
  {
   "cell_type": "code",
   "execution_count": null,
   "metadata": {},
   "outputs": [],
   "source": []
  }
 ],
 "metadata": {
  "kernelspec": {
   "display_name": "Python 3",
   "language": "python",
   "name": "python3"
  },
  "language_info": {
   "codemirror_mode": {
    "name": "ipython",
    "version": 3
   },
   "file_extension": ".py",
   "mimetype": "text/x-python",
   "name": "python",
   "nbconvert_exporter": "python",
   "pygments_lexer": "ipython3",
   "version": "3.8.5"
  }
 },
 "nbformat": 4,
 "nbformat_minor": 4
}
