{
 "cells": [
  {
   "cell_type": "markdown",
   "metadata": {},
   "source": [
    "# Kickstarter - Ensemlbe Method (Random Forest)"
   ]
  },
  {
   "cell_type": "code",
   "execution_count": 36,
   "metadata": {},
   "outputs": [],
   "source": [
    "import pandas as pd\n",
    "import numpy as np\n",
    "\n",
    "# Modelling and evaluation libraries\n",
    "from sklearn.model_selection import train_test_split\n",
    "from sklearn.ensemble import RandomForestRegressor #Regressor! NOT Classifier!\n",
    "from sklearn import metrics\n",
    "from sklearn.metrics import r2_score\n",
    "\n",
    "# Scaling\n",
    "from sklearn.preprocessing import RobustScaler\n",
    "\n",
    "# Preprocessing\n",
    "from sklearn import preprocessing\n",
    "from sklearn import utils\n",
    "\n",
    "# Visualisation\n",
    "import matplotlib.pyplot as plt\n",
    "import seaborn as sns\n",
    "%matplotlib inline"
   ]
  },
  {
   "cell_type": "markdown",
   "metadata": {},
   "source": [
    "## Read data"
   ]
  },
  {
   "cell_type": "code",
   "execution_count": 37,
   "metadata": {},
   "outputs": [],
   "source": [
    "df = pd.read_csv('data/Kickstarter_cleaned2.csv')\n",
    "df = df.drop(['Unnamed: 0'], axis=1)"
   ]
  },
  {
   "cell_type": "markdown",
   "metadata": {},
   "source": [
    "## Visualisation"
   ]
  },
  {
   "cell_type": "code",
   "execution_count": 38,
   "metadata": {},
   "outputs": [
    {
     "data": {
      "text/plain": [
       "<bound method Index.sort_values of Index(['backers_count', 'id', 'usd_pledged', 'category_name', 'category_id',\n",
       "       'category_parent_id', 'usd_goal', 'duration_days', 'duration_days_prep',\n",
       "       'year_deadline', 'month_deadline', 'weekday_deadline',\n",
       "       'weekday_launched_at', 'winter_deadline_True', 'spring_deadline_True',\n",
       "       'summer_deadline_True', 'deadline_weekend_True',\n",
       "       'launched_weekend_True', 'country_US_True', 'eastcoast_True',\n",
       "       'long_blurb_True', 'long_name_True', 'state_b_True',\n",
       "       'long_creator_name_True'],\n",
       "      dtype='object')>"
      ]
     },
     "execution_count": 38,
     "metadata": {},
     "output_type": "execute_result"
    }
   ],
   "source": [
    "df.columns.sort_values"
   ]
  },
  {
   "cell_type": "markdown",
   "metadata": {},
   "source": [
    "## Modelling & Predicting"
   ]
  },
  {
   "cell_type": "code",
   "execution_count": 39,
   "metadata": {},
   "outputs": [],
   "source": [
    "# Global random_state\n",
    "rand = 1\n",
    "\n",
    "# Define variables\n",
    "#X = df[['usd_goal', 'category_parent_id',\n",
    "#        'duration_days', 'duration_days_prep', 'year_deadline',\n",
    "#        'country_US_True']]\n",
    "\n",
    "X = df[['category_parent_id', 'usd_goal', 'duration_days', 'duration_days_prep',\n",
    "       'year_deadline', 'winter_deadline_True', 'spring_deadline_True',\n",
    "       'summer_deadline_True', 'deadline_weekend_True',\n",
    "       'launched_weekend_True', 'eastcoast_True', 'long_blurb_True',\n",
    "       'long_name_True', 'long_creator_name_True']]\n",
    "\n",
    "y = df['usd_pledged']"
   ]
  },
  {
   "cell_type": "code",
   "execution_count": 42,
   "metadata": {},
   "outputs": [],
   "source": [
    "# Splitting the data set into test and train data\n",
    "X_train, X_test, y_train, y_test = train_test_split(X, y, test_size=0.25, random_state=rand)"
   ]
  },
  {
   "cell_type": "code",
   "execution_count": 43,
   "metadata": {},
   "outputs": [
    {
     "name": "stderr",
     "output_type": "stream",
     "text": [
      "[Parallel(n_jobs=-1)]: Using backend ThreadingBackend with 8 concurrent workers.\n",
      "[Parallel(n_jobs=-1)]: Done  34 tasks      | elapsed:    1.7s\n",
      "[Parallel(n_jobs=-1)]: Done 184 tasks      | elapsed:    9.3s\n",
      "[Parallel(n_jobs=-1)]: Done 200 out of 200 | elapsed:   10.1s finished\n"
     ]
    },
    {
     "data": {
      "text/plain": [
       "RandomForestRegressor(max_features='sqrt', n_estimators=200, n_jobs=-1,\n",
       "                      random_state=1, verbose=1)"
      ]
     },
     "execution_count": 43,
     "metadata": {},
     "output_type": "execute_result"
    }
   ],
   "source": [
    "# Train the model\n",
    "rforest = RandomForestRegressor(max_features='sqrt', n_estimators=200, n_jobs=-1,\n",
    "                                 verbose=1, random_state=rand)\n",
    "rforest.fit(X_train, y_train)"
   ]
  },
  {
   "cell_type": "code",
   "execution_count": 44,
   "metadata": {},
   "outputs": [
    {
     "name": "stderr",
     "output_type": "stream",
     "text": [
      "[Parallel(n_jobs=8)]: Using backend ThreadingBackend with 8 concurrent workers.\n",
      "[Parallel(n_jobs=8)]: Done  34 tasks      | elapsed:    0.3s\n",
      "[Parallel(n_jobs=8)]: Done 184 tasks      | elapsed:    1.7s\n",
      "[Parallel(n_jobs=8)]: Done 200 out of 200 | elapsed:    1.9s finished\n"
     ]
    }
   ],
   "source": [
    "y_pred = rforest.predict(X_test)"
   ]
  },
  {
   "cell_type": "markdown",
   "metadata": {},
   "source": [
    "## Results"
   ]
  },
  {
   "cell_type": "code",
   "execution_count": 48,
   "metadata": {},
   "outputs": [
    {
     "name": "stdout",
     "output_type": "stream",
     "text": [
      "Average number of nodes:\n",
      " 155581\n",
      "Average maximum depth:\n",
      " 36\n"
     ]
    }
   ],
   "source": [
    "# Get the average number of nodes and the depth\n",
    "n_nodes = []\n",
    "max_depths = []\n",
    "# Stats about the trees in random forest\n",
    "for ind_tree in rforest.estimators_:\n",
    "    n_nodes.append(ind_tree.tree_.node_count)\n",
    "    max_depths.append(ind_tree.tree_.max_depth)\n",
    "    \n",
    "print(f'Average number of nodes:\\n {int(np.mean(n_nodes))}')\n",
    "print(f'Average maximum depth:\\n {int(np.mean(max_depths))}')"
   ]
  },
  {
   "cell_type": "code",
   "execution_count": 45,
   "metadata": {},
   "outputs": [
    {
     "name": "stdout",
     "output_type": "stream",
     "text": [
      "Mean of usd_pledged:\n",
      " 12297\n",
      "Mean Absolute Error:\n",
      " 13056\n",
      "Mean Squared Error:\n",
      " 5921640561\n",
      "Root Mean Squared Error:\n",
      " 76952\n",
      "R^2:\n",
      " 0.19\n"
     ]
    }
   ],
   "source": [
    "# Calculate r^2\n",
    "r2 = r2_score(y_test, y_pred, multioutput='uniform_average')\n",
    "\n",
    "# Return evaluation\n",
    "print('Mean of usd_pledged:\\n', round(df.usd_pledged.mean()))\n",
    "print('Mean Absolute Error:\\n', round(metrics.mean_absolute_error(y_test, y_pred)))\n",
    "print('Mean Squared Error:\\n', round(metrics.mean_squared_error(y_test, y_pred)))\n",
    "print('Root Mean Squared Error:\\n', round(np.sqrt(metrics.mean_squared_error(y_test, y_pred))))\n",
    "print('R^2:\\n', round(r2,ndigits=2))"
   ]
  },
  {
   "cell_type": "markdown",
   "metadata": {},
   "source": [
    "**Description:**<br/>\n",
    "* R Square measures how much of variability in dependent variable can be explained by the model.\n",
    "* Also with a different selection of features, the R^2 could to be raised higher than 0.025."
   ]
  },
  {
   "cell_type": "markdown",
   "metadata": {},
   "source": [
    "**Conclusion:**<br/>\n",
    "* The model (Multi-Linear_Regression) is not capable of predicting the pledged amount in USD.\n",
    "* Probabliy because the numeric variables are mainly from a categorical nature.\n",
    "* Using a polynomial regression might increas the quality of the model.\n",
    "* **The model is underfitting**"
   ]
  },
  {
   "cell_type": "code",
   "execution_count": null,
   "metadata": {},
   "outputs": [],
   "source": []
  }
 ],
 "metadata": {
  "kernelspec": {
   "display_name": "Python 3",
   "language": "python",
   "name": "python3"
  },
  "language_info": {
   "codemirror_mode": {
    "name": "ipython",
    "version": 3
   },
   "file_extension": ".py",
   "mimetype": "text/x-python",
   "name": "python",
   "nbconvert_exporter": "python",
   "pygments_lexer": "ipython3",
   "version": "3.8.5"
  }
 },
 "nbformat": 4,
 "nbformat_minor": 4
}
