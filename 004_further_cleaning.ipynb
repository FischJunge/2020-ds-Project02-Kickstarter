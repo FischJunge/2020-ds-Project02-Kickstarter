{
 "cells": [
  {
   "cell_type": "code",
   "execution_count": 1,
   "metadata": {},
   "outputs": [],
   "source": [
    "import numpy as np\n",
    "import pandas as pd\n",
    "import time\n",
    "\n",
    "# Visualization\n",
    "import seaborn as sns\n",
    "import matplotlib.pyplot as plt\n",
    "%matplotlib inline"
   ]
  },
  {
   "cell_type": "code",
   "execution_count": 2,
   "metadata": {},
   "outputs": [],
   "source": [
    "# Loading dataset and dropping the first column, because it contains rownumbers\n",
    "df_init = pd.read_csv('data/Kickstarter_init_cleaned.csv')\n",
    "df_init2 = df_init.drop(columns='Unnamed: 0')"
   ]
  },
  {
   "cell_type": "code",
   "execution_count": 3,
   "metadata": {},
   "outputs": [],
   "source": [
    "# Display numbers with two digits\n",
    "pd.options.display.float_format = '{:,.2f}'.format"
   ]
  },
  {
   "cell_type": "markdown",
   "metadata": {},
   "source": [
    "### Selecting data"
   ]
  },
  {
   "cell_type": "code",
   "execution_count": 4,
   "metadata": {},
   "outputs": [
    {
     "data": {
      "text/plain": [
       "successful    117465\n",
       "failed         75199\n",
       "canceled        8624\n",
       "live            7311\n",
       "suspended        623\n",
       "Name: state, dtype: int64"
      ]
     },
     "execution_count": 4,
     "metadata": {},
     "output_type": "execute_result"
    }
   ],
   "source": [
    "# Counting unique values in column state.\n",
    "df_init2.state.value_counts()"
   ]
  },
  {
   "cell_type": "code",
   "execution_count": 5,
   "metadata": {},
   "outputs": [],
   "source": [
    "# Drop the states canceled and suspended\n",
    "df_st = df_init2.drop(df_init2[(df_init2.state == \"canceled\") | (df_init2.state == \"suspended\")| (df_init2.state == \"live\")].index)"
   ]
  },
  {
   "cell_type": "code",
   "execution_count": 6,
   "metadata": {},
   "outputs": [
    {
     "data": {
      "text/plain": [
       "successful    117465\n",
       "failed         75199\n",
       "Name: state, dtype: int64"
      ]
     },
     "execution_count": 6,
     "metadata": {},
     "output_type": "execute_result"
    }
   ],
   "source": [
    "# Counting unique values in column state.\n",
    "df_st.state.value_counts()"
   ]
  },
  {
   "cell_type": "code",
   "execution_count": 7,
   "metadata": {},
   "outputs": [
    {
     "data": {
      "text/plain": [
       "Index(['backers_count', 'blurb', 'converted_pledged_amount', 'country',\n",
       "       'created_at', 'currency', 'currency_trailing_code', 'current_currency',\n",
       "       'deadline', 'disable_communication', 'fx_rate', 'goal', 'id',\n",
       "       'is_starrable', 'launched_at', 'name', 'pledged', 'slug', 'spotlight',\n",
       "       'staff_pick', 'state', 'state_changed_at', 'static_usd_rate',\n",
       "       'usd_pledged', 'usd_type', 'category_name', 'creator_name',\n",
       "       'location_name', 'location_state', 'created_at_rd', 'deadline_rd',\n",
       "       'launched_at_rd', 'state_changed_at_rd'],\n",
       "      dtype='object')"
      ]
     },
     "execution_count": 7,
     "metadata": {},
     "output_type": "execute_result"
    }
   ],
   "source": [
    "# Checking column names\n",
    "df_st.columns"
   ]
  },
  {
   "cell_type": "code",
   "execution_count": 8,
   "metadata": {},
   "outputs": [],
   "source": [
    "# Drop useless columns\n",
    "df_sel = df_st.drop(columns=['currency_trailing_code', 'current_currency', 'disable_communication',\n",
    "                              'is_starrable','spotlight','staff_pick', 'static_usd_rate', 'usd_type'])"
   ]
  },
  {
   "cell_type": "markdown",
   "metadata": {},
   "source": [
    "### Removing doubles based on id"
   ]
  },
  {
   "cell_type": "code",
   "execution_count": 9,
   "metadata": {},
   "outputs": [
    {
     "name": "stdout",
     "output_type": "stream",
     "text": [
      "23685\n"
     ]
    }
   ],
   "source": [
    "# Check for duplicates in the database based on id\n",
    "print(df_sel.shape[0]-df_sel.id.nunique())\n",
    "double = df_sel[df_sel.duplicated(subset=['id'], keep=False)]\n",
    "#double.sort_values(\"id\")"
   ]
  },
  {
   "cell_type": "code",
   "execution_count": 10,
   "metadata": {},
   "outputs": [
    {
     "data": {
      "text/plain": [
       "(168979, 25)"
      ]
     },
     "execution_count": 10,
     "metadata": {},
     "output_type": "execute_result"
    }
   ],
   "source": [
    "# Remove duplicates in the database based on id\n",
    "df_id = df_sel.drop_duplicates(subset=['id'], keep=\"last\")\n",
    "#df_id[df_id.id==39036]\n",
    "df_id.shape"
   ]
  },
  {
   "cell_type": "markdown",
   "metadata": {},
   "source": [
    "### Removing columns with comparable content regarding the amount pledged"
   ]
  },
  {
   "cell_type": "code",
   "execution_count": 11,
   "metadata": {},
   "outputs": [],
   "source": [
    "# Check the difference between converted_pledged_amount, pledged and usd_pledged\n",
    "#pledged = df_id[[\"converted_pledged_amount\",\"pledged\",\"usd_pledged\"]]\n",
    "#pledged.describe()\n",
    "#pledged.head(20)"
   ]
  },
  {
   "cell_type": "markdown",
   "metadata": {},
   "source": [
    "Converted_pledged_amount is rounded, usd_pledged is not. Pledged is in the original currency. We only keep usd_pledged."
   ]
  },
  {
   "cell_type": "code",
   "execution_count": 12,
   "metadata": {},
   "outputs": [],
   "source": [
    "df_mis = df_id.drop(columns=[\"converted_pledged_amount\", \"pledged\"])"
   ]
  },
  {
   "cell_type": "markdown",
   "metadata": {},
   "source": [
    "### Check for missing data."
   ]
  },
  {
   "cell_type": "code",
   "execution_count": 13,
   "metadata": {},
   "outputs": [],
   "source": [
    "#df_mis.info()"
   ]
  },
  {
   "cell_type": "code",
   "execution_count": 14,
   "metadata": {},
   "outputs": [
    {
     "data": {
      "text/plain": [
       "(745, 23)"
      ]
     },
     "execution_count": 14,
     "metadata": {},
     "output_type": "execute_result"
    }
   ],
   "source": [
    "df1 = df_mis[df_mis.isna().any(axis=1)]\n",
    "df1.shape"
   ]
  },
  {
   "cell_type": "markdown",
   "metadata": {},
   "source": [
    "There are 745 missing data values in the columns blurb, creator_name, location_name, and location_state."
   ]
  },
  {
   "cell_type": "code",
   "execution_count": 15,
   "metadata": {},
   "outputs": [
    {
     "data": {
      "text/html": [
       "<div>\n",
       "<style scoped>\n",
       "    .dataframe tbody tr th:only-of-type {\n",
       "        vertical-align: middle;\n",
       "    }\n",
       "\n",
       "    .dataframe tbody tr th {\n",
       "        vertical-align: top;\n",
       "    }\n",
       "\n",
       "    .dataframe thead th {\n",
       "        text-align: right;\n",
       "    }\n",
       "</style>\n",
       "<table border=\"1\" class=\"dataframe\">\n",
       "  <thead>\n",
       "    <tr style=\"text-align: right;\">\n",
       "      <th></th>\n",
       "      <th>backers_count</th>\n",
       "      <th>blurb</th>\n",
       "      <th>country</th>\n",
       "      <th>created_at</th>\n",
       "      <th>currency</th>\n",
       "      <th>deadline</th>\n",
       "      <th>fx_rate</th>\n",
       "      <th>goal</th>\n",
       "      <th>id</th>\n",
       "      <th>launched_at</th>\n",
       "      <th>...</th>\n",
       "      <th>state_changed_at</th>\n",
       "      <th>usd_pledged</th>\n",
       "      <th>category_name</th>\n",
       "      <th>creator_name</th>\n",
       "      <th>location_name</th>\n",
       "      <th>location_state</th>\n",
       "      <th>created_at_rd</th>\n",
       "      <th>deadline_rd</th>\n",
       "      <th>launched_at_rd</th>\n",
       "      <th>state_changed_at_rd</th>\n",
       "    </tr>\n",
       "  </thead>\n",
       "  <tbody>\n",
       "    <tr>\n",
       "      <th>65168</th>\n",
       "      <td>39</td>\n",
       "      <td>NaN</td>\n",
       "      <td>DE</td>\n",
       "      <td>1504364375</td>\n",
       "      <td>EUR</td>\n",
       "      <td>1507625188</td>\n",
       "      <td>1.13</td>\n",
       "      <td>15,000.00</td>\n",
       "      <td>937524480</td>\n",
       "      <td>1505033188</td>\n",
       "      <td>...</td>\n",
       "      <td>1507625190</td>\n",
       "      <td>8,873.67</td>\n",
       "      <td>Ready-to-wear</td>\n",
       "      <td>Annabelle Deisler</td>\n",
       "      <td>Munich</td>\n",
       "      <td>Bavaria</td>\n",
       "      <td>Sat Sep  2 16:59:35 2017</td>\n",
       "      <td>Tue Oct 10 10:46:28 2017</td>\n",
       "      <td>Sun Sep 10 10:46:28 2017</td>\n",
       "      <td>Tue Oct 10 10:46:30 2017</td>\n",
       "    </tr>\n",
       "    <tr>\n",
       "      <th>108662</th>\n",
       "      <td>0</td>\n",
       "      <td>NaN</td>\n",
       "      <td>US</td>\n",
       "      <td>1509679461</td>\n",
       "      <td>USD</td>\n",
       "      <td>1515800048</td>\n",
       "      <td>1.00</td>\n",
       "      <td>40,000.00</td>\n",
       "      <td>1077399482</td>\n",
       "      <td>1510616048</td>\n",
       "      <td>...</td>\n",
       "      <td>1515800048</td>\n",
       "      <td>0.00</td>\n",
       "      <td>Digital Art</td>\n",
       "      <td>moe</td>\n",
       "      <td>Los Angeles</td>\n",
       "      <td>CA</td>\n",
       "      <td>Fri Nov  3 04:24:21 2017</td>\n",
       "      <td>Sat Jan 13 00:34:08 2018</td>\n",
       "      <td>Tue Nov 14 00:34:08 2017</td>\n",
       "      <td>Sat Jan 13 00:34:08 2018</td>\n",
       "    </tr>\n",
       "  </tbody>\n",
       "</table>\n",
       "<p>2 rows × 23 columns</p>\n",
       "</div>"
      ],
      "text/plain": [
       "        backers_count blurb country  created_at currency    deadline  fx_rate  \\\n",
       "65168              39   NaN      DE  1504364375      EUR  1507625188     1.13   \n",
       "108662              0   NaN      US  1509679461      USD  1515800048     1.00   \n",
       "\n",
       "            goal          id  launched_at  ... state_changed_at usd_pledged  \\\n",
       "65168  15,000.00   937524480   1505033188  ...       1507625190    8,873.67   \n",
       "108662 40,000.00  1077399482   1510616048  ...       1515800048        0.00   \n",
       "\n",
       "        category_name       creator_name  location_name location_state  \\\n",
       "65168   Ready-to-wear  Annabelle Deisler         Munich        Bavaria   \n",
       "108662    Digital Art                moe    Los Angeles             CA   \n",
       "\n",
       "                   created_at_rd               deadline_rd  \\\n",
       "65168   Sat Sep  2 16:59:35 2017  Tue Oct 10 10:46:28 2017   \n",
       "108662  Fri Nov  3 04:24:21 2017  Sat Jan 13 00:34:08 2018   \n",
       "\n",
       "                  launched_at_rd       state_changed_at_rd  \n",
       "65168   Sun Sep 10 10:46:28 2017  Tue Oct 10 10:46:30 2017  \n",
       "108662  Tue Nov 14 00:34:08 2017  Sat Jan 13 00:34:08 2018  \n",
       "\n",
       "[2 rows x 23 columns]"
      ]
     },
     "execution_count": 15,
     "metadata": {},
     "output_type": "execute_result"
    }
   ],
   "source": [
    "# check for missing values in the blurb column\n",
    "df_mis[df_mis['blurb'].isnull()]"
   ]
  },
  {
   "cell_type": "code",
   "execution_count": 16,
   "metadata": {},
   "outputs": [],
   "source": [
    "# replace these missing values with the project name.\n",
    "df_mis.loc[df_mis['blurb'].isnull(),'blurb'] = df_mis['name']\n",
    "#df_mis.blurb[65168]"
   ]
  },
  {
   "cell_type": "markdown",
   "metadata": {},
   "source": [
    "What do we do about creator name, location name and location state?"
   ]
  },
  {
   "cell_type": "code",
   "execution_count": 17,
   "metadata": {},
   "outputs": [],
   "source": [
    "# replace these missing values with other values.\n",
    "df_mis.loc[df_mis['creator_name'].isnull(),'creator_name'] = \"John Doe\"\n",
    "df_mis.loc[df_mis['location_state'].isnull(),'location_state'] = df_mis['country']\n",
    "df_mis.loc[df_mis['location_name'].isnull(),'location_name'] = df_mis['location_state']"
   ]
  },
  {
   "cell_type": "markdown",
   "metadata": {},
   "source": [
    "### Feature engineering"
   ]
  },
  {
   "cell_type": "code",
   "execution_count": 18,
   "metadata": {},
   "outputs": [],
   "source": [
    "# Goal in USD\n",
    "df_mis[\"usd_goal\"] = df_mis.goal * df_mis.fx_rate\n",
    "# Remove column with exchange rate\n",
    "df_feat1 = df_mis.drop(columns = [\"goal\",\"currency\",\"fx_rate\"])"
   ]
  },
  {
   "cell_type": "code",
   "execution_count": 19,
   "metadata": {},
   "outputs": [],
   "source": [
    "# Project duration in days between launch and deadline\n",
    "df_feat1[\"duration_days\"] = round((df_feat1.deadline - df_feat1.launched_at)/(60*60*24))\n",
    "# Remove columns with unix time stamps.\n",
    "df_feat2 = df_feat1.drop(columns=[\"created_at\", \"deadline\", \"launched_at\", \"state_changed_at\"])"
   ]
  },
  {
   "cell_type": "code",
   "execution_count": 20,
   "metadata": {},
   "outputs": [],
   "source": [
    "# Difference between usd_pledged and usd_goal\n",
    "df_feat2[\"d_pledged_goal_usd\"] = df_feat2[\"usd_pledged\"] - df_feat2[\"usd_goal\"]\n",
    "#df_feat2.head()"
   ]
  },
  {
   "cell_type": "markdown",
   "metadata": {},
   "source": [
    "### Dealing with outliers of numeric features"
   ]
  },
  {
   "cell_type": "code",
   "execution_count": 21,
   "metadata": {},
   "outputs": [
    {
     "data": {
      "text/plain": [
       "count     166,192.00\n",
       "mean       19,490.07\n",
       "std        78,516.05\n",
       "min           100.00\n",
       "25%         1,502.45\n",
       "50%         5,000.00\n",
       "75%        13,256.80\n",
       "max     2,000,000.00\n",
       "Name: usd_goal, dtype: float64"
      ]
     },
     "execution_count": 21,
     "metadata": {},
     "output_type": "execute_result"
    }
   ],
   "source": [
    "# usd_goal: min is 100 USD, max is successfully pledged project with highest goal.\n",
    "highest_goal = df_feat2[df_feat2.state == \"successful\"].usd_goal.max()\n",
    "df = df_feat2.loc[((df_feat2.usd_goal >= 100.0) & (df_feat2.usd_goal <= highest_goal))]\n",
    "df.usd_goal.describe()"
   ]
  },
  {
   "cell_type": "code",
   "execution_count": 22,
   "metadata": {},
   "outputs": [
    {
     "data": {
      "text/plain": [
       "2787"
      ]
     },
     "execution_count": 22,
     "metadata": {},
     "output_type": "execute_result"
    }
   ],
   "source": [
    "# Check data loss\n",
    "df_feat2.shape[0]-df.shape[0]"
   ]
  },
  {
   "cell_type": "code",
   "execution_count": 23,
   "metadata": {},
   "outputs": [
    {
     "data": {
      "text/html": [
       "<div>\n",
       "<style scoped>\n",
       "    .dataframe tbody tr th:only-of-type {\n",
       "        vertical-align: middle;\n",
       "    }\n",
       "\n",
       "    .dataframe tbody tr th {\n",
       "        vertical-align: top;\n",
       "    }\n",
       "\n",
       "    .dataframe thead th {\n",
       "        text-align: right;\n",
       "    }\n",
       "</style>\n",
       "<table border=\"1\" class=\"dataframe\">\n",
       "  <thead>\n",
       "    <tr style=\"text-align: right;\">\n",
       "      <th></th>\n",
       "      <th>backers_count</th>\n",
       "      <th>id</th>\n",
       "      <th>usd_pledged</th>\n",
       "      <th>usd_goal</th>\n",
       "      <th>duration_days</th>\n",
       "      <th>d_pledged_goal_usd</th>\n",
       "    </tr>\n",
       "  </thead>\n",
       "  <tbody>\n",
       "    <tr>\n",
       "      <th>count</th>\n",
       "      <td>166,192.00</td>\n",
       "      <td>166,192.00</td>\n",
       "      <td>166,192.00</td>\n",
       "      <td>166,192.00</td>\n",
       "      <td>166,192.00</td>\n",
       "      <td>166,192.00</td>\n",
       "    </tr>\n",
       "    <tr>\n",
       "      <th>mean</th>\n",
       "      <td>141.99</td>\n",
       "      <td>1,073,397,001.68</td>\n",
       "      <td>12,297.14</td>\n",
       "      <td>19,490.07</td>\n",
       "      <td>32.72</td>\n",
       "      <td>-7,192.93</td>\n",
       "    </tr>\n",
       "    <tr>\n",
       "      <th>std</th>\n",
       "      <td>901.95</td>\n",
       "      <td>619,431,950.59</td>\n",
       "      <td>84,403.00</td>\n",
       "      <td>78,516.05</td>\n",
       "      <td>11.69</td>\n",
       "      <td>106,086.46</td>\n",
       "    </tr>\n",
       "    <tr>\n",
       "      <th>min</th>\n",
       "      <td>0.00</td>\n",
       "      <td>8,624.00</td>\n",
       "      <td>0.00</td>\n",
       "      <td>100.00</td>\n",
       "      <td>1.00</td>\n",
       "      <td>-2,000,000.00</td>\n",
       "    </tr>\n",
       "    <tr>\n",
       "      <th>25%</th>\n",
       "      <td>3.00</td>\n",
       "      <td>535,785,761.75</td>\n",
       "      <td>101.69</td>\n",
       "      <td>1,502.45</td>\n",
       "      <td>30.00</td>\n",
       "      <td>-4,985.00</td>\n",
       "    </tr>\n",
       "    <tr>\n",
       "      <th>50%</th>\n",
       "      <td>26.00</td>\n",
       "      <td>1,074,926,261.00</td>\n",
       "      <td>1,524.22</td>\n",
       "      <td>5,000.00</td>\n",
       "      <td>30.00</td>\n",
       "      <td>39.55</td>\n",
       "    </tr>\n",
       "    <tr>\n",
       "      <th>75%</th>\n",
       "      <td>86.00</td>\n",
       "      <td>1,608,503,247.50</td>\n",
       "      <td>6,372.99</td>\n",
       "      <td>13,256.80</td>\n",
       "      <td>34.00</td>\n",
       "      <td>783.21</td>\n",
       "    </tr>\n",
       "    <tr>\n",
       "      <th>max</th>\n",
       "      <td>105,857.00</td>\n",
       "      <td>2,147,476,221.00</td>\n",
       "      <td>8,596,474.58</td>\n",
       "      <td>2,000,000.00</td>\n",
       "      <td>93.00</td>\n",
       "      <td>7,646,474.58</td>\n",
       "    </tr>\n",
       "  </tbody>\n",
       "</table>\n",
       "</div>"
      ],
      "text/plain": [
       "       backers_count               id  usd_pledged     usd_goal  \\\n",
       "count     166,192.00       166,192.00   166,192.00   166,192.00   \n",
       "mean          141.99 1,073,397,001.68    12,297.14    19,490.07   \n",
       "std           901.95   619,431,950.59    84,403.00    78,516.05   \n",
       "min             0.00         8,624.00         0.00       100.00   \n",
       "25%             3.00   535,785,761.75       101.69     1,502.45   \n",
       "50%            26.00 1,074,926,261.00     1,524.22     5,000.00   \n",
       "75%            86.00 1,608,503,247.50     6,372.99    13,256.80   \n",
       "max       105,857.00 2,147,476,221.00 8,596,474.58 2,000,000.00   \n",
       "\n",
       "       duration_days  d_pledged_goal_usd  \n",
       "count     166,192.00          166,192.00  \n",
       "mean           32.72           -7,192.93  \n",
       "std            11.69          106,086.46  \n",
       "min             1.00       -2,000,000.00  \n",
       "25%            30.00           -4,985.00  \n",
       "50%            30.00               39.55  \n",
       "75%            34.00              783.21  \n",
       "max            93.00        7,646,474.58  "
      ]
     },
     "execution_count": 23,
     "metadata": {},
     "output_type": "execute_result"
    }
   ],
   "source": [
    "# check for more outliers\n",
    "df.describe()"
   ]
  },
  {
   "cell_type": "code",
   "execution_count": 24,
   "metadata": {},
   "outputs": [],
   "source": [
    "check1 = df[df.d_pledged_goal_usd == -2000000]\n",
    "#check1"
   ]
  },
  {
   "cell_type": "code",
   "execution_count": 25,
   "metadata": {},
   "outputs": [],
   "source": [
    "check2 = df[df.duration_days == 1]\n",
    "#check2"
   ]
  },
  {
   "cell_type": "code",
   "execution_count": 26,
   "metadata": {},
   "outputs": [],
   "source": [
    "# Save the cleaned dataset\n",
    "df.to_csv('data/Kickstarter_cleaned.csv')"
   ]
  },
  {
   "cell_type": "markdown",
   "metadata": {},
   "source": [
    "### Standardization"
   ]
  },
  {
   "cell_type": "markdown",
   "metadata": {},
   "source": [
    "Should take place at fit_transform, not here.\n",
    "* backers_count\n",
    "* usd_pledged\n",
    "* usd_goal\n",
    "* duration_days\n",
    "* d_pledged_goal_usd"
   ]
  },
  {
   "cell_type": "code",
   "execution_count": 27,
   "metadata": {},
   "outputs": [],
   "source": [
    "## Potential candidate: power transformer. \n",
    "#from sklearn.preprocessing import PowerTransformer\n",
    "## Yeo-Johnson for data with positive and negative values: 'd_pledged_goal_usd'\n",
    "#PowerTransformer(method='yeo-johnson').fit_transform(X)\n",
    "## Box-Cox for data with positive values only for the other four features\n",
    "#PowerTransformer(method='box-cox').fit_transform(X)"
   ]
  }
 ],
 "metadata": {
  "kernelspec": {
   "display_name": "Python 3",
   "language": "python",
   "name": "python3"
  },
  "language_info": {
   "codemirror_mode": {
    "name": "ipython",
    "version": 3
   },
   "file_extension": ".py",
   "mimetype": "text/x-python",
   "name": "python",
   "nbconvert_exporter": "python",
   "pygments_lexer": "ipython3",
   "version": "3.8.5"
  }
 },
 "nbformat": 4,
 "nbformat_minor": 4
}
