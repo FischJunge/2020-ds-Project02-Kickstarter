{
 "cells": [
  {
   "cell_type": "markdown",
   "metadata": {},
   "source": [
    "# Further data cleaning"
   ]
  },
  {
   "cell_type": "code",
   "execution_count": 1,
   "metadata": {},
   "outputs": [],
   "source": [
    "# Importing libraries\n",
    "import numpy as np\n",
    "import pandas as pd\n",
    "import time"
   ]
  },
  {
   "cell_type": "code",
   "execution_count": 2,
   "metadata": {},
   "outputs": [],
   "source": [
    "# Loading dataset and dropping the first column, because it contains rownumbers\n",
    "df_init = pd.read_csv('data/Kickstarter_init_cleaned2.csv')\n",
    "df_init2 = df_init.drop(columns='Unnamed: 0')"
   ]
  },
  {
   "cell_type": "code",
   "execution_count": 3,
   "metadata": {},
   "outputs": [],
   "source": [
    "# Display numbers with two digits\n",
    "pd.options.display.float_format = '{:,.2f}'.format"
   ]
  },
  {
   "cell_type": "markdown",
   "metadata": {},
   "source": [
    "### Selecting data"
   ]
  },
  {
   "cell_type": "code",
   "execution_count": 4,
   "metadata": {},
   "outputs": [
    {
     "data": {
      "text/plain": [
       "successful    117465\n",
       "failed         75199\n",
       "canceled        8624\n",
       "live            7311\n",
       "suspended        623\n",
       "Name: state, dtype: int64"
      ]
     },
     "execution_count": 4,
     "metadata": {},
     "output_type": "execute_result"
    }
   ],
   "source": [
    "# Counting unique values in column state.\n",
    "df_init2.state.value_counts()"
   ]
  },
  {
   "cell_type": "code",
   "execution_count": 5,
   "metadata": {},
   "outputs": [],
   "source": [
    "# Drop the rows of the states canceled, suspended and live\n",
    "df_st = df_init2.drop(df_init2[(df_init2.state == \"canceled\") | (df_init2.state == \"suspended\")| (df_init2.state == \"live\")].index)"
   ]
  },
  {
   "cell_type": "code",
   "execution_count": 6,
   "metadata": {},
   "outputs": [
    {
     "data": {
      "text/plain": [
       "successful    117465\n",
       "failed         75199\n",
       "Name: state, dtype: int64"
      ]
     },
     "execution_count": 6,
     "metadata": {},
     "output_type": "execute_result"
    }
   ],
   "source": [
    "# Counting unique values in column state.\n",
    "df_st.state.value_counts()"
   ]
  },
  {
   "cell_type": "code",
   "execution_count": 7,
   "metadata": {},
   "outputs": [
    {
     "data": {
      "text/plain": [
       "Index(['backers_count', 'blurb', 'converted_pledged_amount', 'country',\n",
       "       'created_at', 'currency', 'currency_trailing_code', 'current_currency',\n",
       "       'deadline', 'disable_communication', 'fx_rate', 'goal', 'id',\n",
       "       'is_starrable', 'launched_at', 'name', 'pledged', 'slug', 'spotlight',\n",
       "       'staff_pick', 'state', 'state_changed_at', 'static_usd_rate',\n",
       "       'usd_pledged', 'usd_type', 'category_name', 'category_id',\n",
       "       'category_parent_id', 'creator_name', 'location_name', 'location_state',\n",
       "       'created_at_rd', 'deadline_rd', 'launched_at_rd',\n",
       "       'state_changed_at_rd'],\n",
       "      dtype='object')"
      ]
     },
     "execution_count": 7,
     "metadata": {},
     "output_type": "execute_result"
    }
   ],
   "source": [
    "# Checking column names\n",
    "df_st.columns"
   ]
  },
  {
   "cell_type": "code",
   "execution_count": 8,
   "metadata": {},
   "outputs": [],
   "source": [
    "# Drop useless columns\n",
    "df_sel = df_st.drop(columns=['currency_trailing_code', 'current_currency', 'disable_communication',\n",
    "                              'is_starrable','spotlight','staff_pick', 'static_usd_rate', 'usd_type'])"
   ]
  },
  {
   "cell_type": "markdown",
   "metadata": {},
   "source": [
    "### Removing doubles based on id"
   ]
  },
  {
   "cell_type": "code",
   "execution_count": 9,
   "metadata": {},
   "outputs": [
    {
     "name": "stdout",
     "output_type": "stream",
     "text": [
      "23685\n"
     ]
    }
   ],
   "source": [
    "# Check for duplicates in the database based on id\n",
    "print(df_sel.shape[0]-df_sel.id.nunique())\n",
    "double = df_sel[df_sel.duplicated(subset=['id'], keep=False)]\n",
    "#double.sort_values(\"id\")"
   ]
  },
  {
   "cell_type": "code",
   "execution_count": 10,
   "metadata": {},
   "outputs": [
    {
     "data": {
      "text/plain": [
       "(168979, 27)"
      ]
     },
     "execution_count": 10,
     "metadata": {},
     "output_type": "execute_result"
    }
   ],
   "source": [
    "# Remove duplicates in the database based on id\n",
    "df_id = df_sel.drop_duplicates(subset=['id'], keep=\"last\")\n",
    "#df_id[df_id.id==39036]\n",
    "df_id.shape"
   ]
  },
  {
   "cell_type": "markdown",
   "metadata": {},
   "source": [
    "### Removing columns with comparable content regarding the amount pledged"
   ]
  },
  {
   "cell_type": "code",
   "execution_count": 11,
   "metadata": {},
   "outputs": [],
   "source": [
    "# Check the difference between converted_pledged_amount, pledged and usd_pledged\n",
    "#pledged = df_id[[\"converted_pledged_amount\",\"pledged\",\"usd_pledged\"]]\n",
    "#pledged.describe()\n",
    "#pledged.head(20)"
   ]
  },
  {
   "cell_type": "markdown",
   "metadata": {},
   "source": [
    "**Pledged** is in the original currency.\n",
    "**Converted_pledged_amount** is rounded.\n",
    "**usd_pledged** is not rounded.\n",
    "**usd_pledged** is kept."
   ]
  },
  {
   "cell_type": "code",
   "execution_count": 12,
   "metadata": {},
   "outputs": [],
   "source": [
    "# Drop columns converted_pledged_amount and pledged.\n",
    "df_mis = df_id.drop(columns=[\"converted_pledged_amount\", \"pledged\"])"
   ]
  },
  {
   "cell_type": "markdown",
   "metadata": {},
   "source": [
    "### Check for missing data"
   ]
  },
  {
   "cell_type": "code",
   "execution_count": 13,
   "metadata": {},
   "outputs": [],
   "source": [
    "#df_mis.info()"
   ]
  },
  {
   "cell_type": "code",
   "execution_count": 14,
   "metadata": {},
   "outputs": [
    {
     "data": {
      "text/plain": [
       "(8989, 25)"
      ]
     },
     "execution_count": 14,
     "metadata": {},
     "output_type": "execute_result"
    }
   ],
   "source": [
    "df1 = df_mis[df_mis.isna().any(axis=1)]\n",
    "df1.shape"
   ]
  },
  {
   "cell_type": "markdown",
   "metadata": {},
   "source": [
    "There are 8989 missing data values in the columns **blurb, creator_name, location_name, and location_state**."
   ]
  },
  {
   "cell_type": "code",
   "execution_count": 15,
   "metadata": {},
   "outputs": [
    {
     "data": {
      "text/html": [
       "<div>\n",
       "<style scoped>\n",
       "    .dataframe tbody tr th:only-of-type {\n",
       "        vertical-align: middle;\n",
       "    }\n",
       "\n",
       "    .dataframe tbody tr th {\n",
       "        vertical-align: top;\n",
       "    }\n",
       "\n",
       "    .dataframe thead th {\n",
       "        text-align: right;\n",
       "    }\n",
       "</style>\n",
       "<table border=\"1\" class=\"dataframe\">\n",
       "  <thead>\n",
       "    <tr style=\"text-align: right;\">\n",
       "      <th></th>\n",
       "      <th>backers_count</th>\n",
       "      <th>blurb</th>\n",
       "      <th>country</th>\n",
       "      <th>created_at</th>\n",
       "      <th>currency</th>\n",
       "      <th>deadline</th>\n",
       "      <th>fx_rate</th>\n",
       "      <th>goal</th>\n",
       "      <th>id</th>\n",
       "      <th>launched_at</th>\n",
       "      <th>...</th>\n",
       "      <th>category_name</th>\n",
       "      <th>category_id</th>\n",
       "      <th>category_parent_id</th>\n",
       "      <th>creator_name</th>\n",
       "      <th>location_name</th>\n",
       "      <th>location_state</th>\n",
       "      <th>created_at_rd</th>\n",
       "      <th>deadline_rd</th>\n",
       "      <th>launched_at_rd</th>\n",
       "      <th>state_changed_at_rd</th>\n",
       "    </tr>\n",
       "  </thead>\n",
       "  <tbody>\n",
       "    <tr>\n",
       "      <th>65168</th>\n",
       "      <td>39</td>\n",
       "      <td>NaN</td>\n",
       "      <td>DE</td>\n",
       "      <td>1504364375</td>\n",
       "      <td>EUR</td>\n",
       "      <td>1507625188</td>\n",
       "      <td>1.13</td>\n",
       "      <td>15,000.00</td>\n",
       "      <td>937524480</td>\n",
       "      <td>1505033188</td>\n",
       "      <td>...</td>\n",
       "      <td>Ready-to-wear</td>\n",
       "      <td>269</td>\n",
       "      <td>9.00</td>\n",
       "      <td>Annabelle Deisler</td>\n",
       "      <td>Munich</td>\n",
       "      <td>Bavaria</td>\n",
       "      <td>Sat Sep  2 16:59:35 2017</td>\n",
       "      <td>Tue Oct 10 10:46:28 2017</td>\n",
       "      <td>Sun Sep 10 10:46:28 2017</td>\n",
       "      <td>Tue Oct 10 10:46:30 2017</td>\n",
       "    </tr>\n",
       "    <tr>\n",
       "      <th>108662</th>\n",
       "      <td>0</td>\n",
       "      <td>NaN</td>\n",
       "      <td>US</td>\n",
       "      <td>1509679461</td>\n",
       "      <td>USD</td>\n",
       "      <td>1515800048</td>\n",
       "      <td>1.00</td>\n",
       "      <td>40,000.00</td>\n",
       "      <td>1077399482</td>\n",
       "      <td>1510616048</td>\n",
       "      <td>...</td>\n",
       "      <td>Digital Art</td>\n",
       "      <td>21</td>\n",
       "      <td>1.00</td>\n",
       "      <td>moe</td>\n",
       "      <td>Los Angeles</td>\n",
       "      <td>CA</td>\n",
       "      <td>Fri Nov  3 04:24:21 2017</td>\n",
       "      <td>Sat Jan 13 00:34:08 2018</td>\n",
       "      <td>Tue Nov 14 00:34:08 2017</td>\n",
       "      <td>Sat Jan 13 00:34:08 2018</td>\n",
       "    </tr>\n",
       "  </tbody>\n",
       "</table>\n",
       "<p>2 rows × 25 columns</p>\n",
       "</div>"
      ],
      "text/plain": [
       "        backers_count blurb country  created_at currency    deadline  fx_rate  \\\n",
       "65168              39   NaN      DE  1504364375      EUR  1507625188     1.13   \n",
       "108662              0   NaN      US  1509679461      USD  1515800048     1.00   \n",
       "\n",
       "            goal          id  launched_at  ...  category_name category_id  \\\n",
       "65168  15,000.00   937524480   1505033188  ...  Ready-to-wear         269   \n",
       "108662 40,000.00  1077399482   1510616048  ...    Digital Art          21   \n",
       "\n",
       "       category_parent_id       creator_name  location_name location_state  \\\n",
       "65168                9.00  Annabelle Deisler         Munich        Bavaria   \n",
       "108662               1.00                moe    Los Angeles             CA   \n",
       "\n",
       "                   created_at_rd               deadline_rd  \\\n",
       "65168   Sat Sep  2 16:59:35 2017  Tue Oct 10 10:46:28 2017   \n",
       "108662  Fri Nov  3 04:24:21 2017  Sat Jan 13 00:34:08 2018   \n",
       "\n",
       "                  launched_at_rd       state_changed_at_rd  \n",
       "65168   Sun Sep 10 10:46:28 2017  Tue Oct 10 10:46:30 2017  \n",
       "108662  Tue Nov 14 00:34:08 2017  Sat Jan 13 00:34:08 2018  \n",
       "\n",
       "[2 rows x 25 columns]"
      ]
     },
     "execution_count": 15,
     "metadata": {},
     "output_type": "execute_result"
    }
   ],
   "source": [
    "# check for missing values in the blurb column\n",
    "df_mis[df_mis['blurb'].isnull()]"
   ]
  },
  {
   "cell_type": "code",
   "execution_count": 16,
   "metadata": {},
   "outputs": [],
   "source": [
    "# replace missing values in the column blurb with the project name.\n",
    "df_mis.loc[df_mis['blurb'].isnull(),'blurb'] = df_mis['name']\n",
    "#df_mis.blurb[65168]"
   ]
  },
  {
   "cell_type": "markdown",
   "metadata": {},
   "source": [
    "Replace missing values in:\n",
    "\n",
    "* **creator** name with \"John Doe\"\n",
    "* **location state** with the country\n",
    "* **location name** with the location state\n",
    "* **category parent id** with the next free category number (27)."
   ]
  },
  {
   "cell_type": "code",
   "execution_count": 17,
   "metadata": {},
   "outputs": [],
   "source": [
    "# replace missing values with other values.\n",
    "df_mis.loc[df_mis['creator_name'].isnull(),'creator_name'] = \"John Doe\"\n",
    "df_mis.loc[df_mis['location_state'].isnull(),'location_state'] = df_mis['country']\n",
    "df_mis.loc[df_mis['location_name'].isnull(),'location_name'] = df_mis['location_state']\n",
    "df_mis.loc[df_mis['category_parent_id'].isnull(),'category_parent_id'] = df_mis.category_parent_id.max()+1"
   ]
  },
  {
   "cell_type": "markdown",
   "metadata": {},
   "source": [
    "### Feature engineering"
   ]
  },
  {
   "cell_type": "code",
   "execution_count": 18,
   "metadata": {},
   "outputs": [],
   "source": [
    "# Goal in USD\n",
    "df_mis[\"usd_goal\"] = df_mis.goal * df_mis.fx_rate\n",
    "# Remove column with exchange rate\n",
    "df_feat1 = df_mis.drop(columns = [\"goal\",\"currency\",\"fx_rate\"])"
   ]
  },
  {
   "cell_type": "code",
   "execution_count": 19,
   "metadata": {},
   "outputs": [],
   "source": [
    "# Project duration in days between launch and deadline\n",
    "df_feat1[\"duration_days\"] = round((df_feat1.deadline - df_feat1.launched_at)/(60*60*24))\n",
    "df_feat1[\"duration_days_prep\"] = round((df_feat1.launched_at - df_feat1.created_at)/(60*60*24))\n",
    "\n",
    "# Remove columns with unix time stamps.\n",
    "df_feat2 = df_feat1.drop(columns=[\"created_at\", \"deadline\", \"launched_at\", \"state_changed_at\"])"
   ]
  },
  {
   "cell_type": "code",
   "execution_count": 20,
   "metadata": {},
   "outputs": [],
   "source": [
    "# Year, month and weekday\n",
    "df_feat2[\"year_deadline\"] = df_feat2['deadline_rd'].astype(str).str[-4:]\n",
    "df_feat2[\"month_deadline\"] = df_feat2['deadline_rd'].astype(str).str[4:7]\n",
    "df_feat2[\"weekday_deadline\"] = df_feat2['deadline_rd'].astype(str).str[:3]\n",
    "df_feat2[\"weekday_launched_at\"] = df_feat2['launched_at_rd'].astype(str).str[:3]\n",
    "\n",
    "# Which season is the month in?\n",
    "winter = [\"Dec\",\"Jan\",\"Feb\"]\n",
    "spring = [\"Mar\",\"Apr\",\"May\"]\n",
    "summer = [\"Jun\",\"Jul\",\"Aug\"]\n",
    "\n",
    "df_feat2['winter_deadline'] = np.where(df_feat2['month_deadline'].isin(winter), True, False)\n",
    "df_feat2['spring_deadline'] = np.where(df_feat2['month_deadline'].isin(spring), True, False)\n",
    "df_feat2['summer_deadline'] = np.where(df_feat2['month_deadline'].isin(summer), True, False)\n",
    "\n",
    "# Is the weekday on the weekend?\n",
    "weekend = [\"Sat\",\"Sun\"]\n",
    "\n",
    "df_feat2['deadline_weekend'] = np.where(df_feat2['weekday_deadline'].isin(weekend), True, False)\n",
    "df_feat2['launched_weekend'] = np.where(df_feat2['weekday_launched_at'].isin(weekend), True, False)\n",
    "\n",
    "# Create dummies for the five relevant columns.\n",
    "df_feat3 = pd.get_dummies(df_feat2, columns=[\"winter_deadline\",\"spring_deadline\",\n",
    "                                             \"summer_deadline\",\"deadline_weekend\",\n",
    "                                             \"launched_weekend\"],\n",
    "                          drop_first=True)\n",
    "# Drop superfluous columns\n",
    "df_feat3 = df_feat3.drop(columns=[\"created_at_rd\",\"deadline_rd\",\"launched_at_rd\",\"state_changed_at_rd\"])"
   ]
  },
  {
   "cell_type": "code",
   "execution_count": 21,
   "metadata": {},
   "outputs": [],
   "source": [
    "# Change country to a boolean operator for US and not US.\n",
    "df_feat3['country_US'] = np.where(df_feat3['country'] == 'US', True, False)\n",
    "\n",
    "# Create dummies\n",
    "df_feat4 = pd.get_dummies(df_feat3, columns=['country_US'], drop_first=True)\n",
    "\n",
    "# Drop column country.\n",
    "df_feat4 = df_feat4.drop(columns=\"country\")"
   ]
  },
  {
   "cell_type": "code",
   "execution_count": 22,
   "metadata": {},
   "outputs": [],
   "source": [
    "# Change location_state to a boolean operator in two columns for eastcoast\n",
    "eastern = [\"ME\",\"NH\",\"VT\",\"NY\",\"MA\",\"RI\",\"CT\",\"NJ\",\"PA\",\"DE\",\"MD\",\"DC\",\"MI\",\"OH\",\"IN\",\n",
    "           \"IL\",\"WI\",\"WV\",\"VA\",\"NC\",\"TN\",\"KY\",\"SC\",\"GA\",\"AL\",\"MS\",\"FL\"]\n",
    "df_feat4['eastcoast'] = np.where(df_feat4['location_state'].isin(eastern), True, False)\n",
    "\n",
    "# Create dummies\n",
    "df_feat5 = pd.get_dummies(df_feat4, columns=['eastcoast'], drop_first=True)\n",
    "\n",
    "# Drop columns\n",
    "df_feat5 = df_feat5.drop(columns=[\"location_name\",\"location_state\"])"
   ]
  },
  {
   "cell_type": "code",
   "execution_count": 23,
   "metadata": {},
   "outputs": [
    {
     "name": "stdout",
     "output_type": "stream",
     "text": [
      "19.06536906952935\n"
     ]
    }
   ],
   "source": [
    "# Change blurb to a boolean operator for long or short blurb based on word count.\n",
    "df_feat5['blurb_nwords'] = df_feat5['blurb'].str.count(' ') + 1\n",
    "bmean = df_feat5.blurb_nwords.mean()\n",
    "print(bmean)\n",
    "df_feat5['long_blurb'] = np.where(df_feat5['blurb_nwords'] >= bmean, True, False)\n",
    "\n",
    "# Create dummies\n",
    "df_feat6 = pd.get_dummies(df_feat5, columns=['long_blurb'], drop_first=True)\n",
    "\n",
    "# Drop columns\n",
    "df_feat6 = df_feat6.drop(columns=['blurb','blurb_nwords'])"
   ]
  },
  {
   "cell_type": "code",
   "execution_count": 24,
   "metadata": {},
   "outputs": [
    {
     "name": "stdout",
     "output_type": "stream",
     "text": [
      "5.722456636623486\n"
     ]
    }
   ],
   "source": [
    "# Change name to a boolean operator for long or short project name based on word count.\n",
    "df_feat6['name_nwords'] = df_feat6['name'].str.count(' ') + 1\n",
    "bmean = df_feat6.name_nwords.mean()\n",
    "print(bmean)\n",
    "df_feat6['long_name'] = np.where(df_feat6['name_nwords'] >= bmean, True, False)\n",
    "\n",
    "# Create dummies\n",
    "df_feat7 = pd.get_dummies(df_feat6, columns=['long_name'], drop_first=True)\n",
    "\n",
    "# Drop columns\n",
    "df_feat7 = df_feat7.drop(columns=['name','name_nwords','slug'])"
   ]
  },
  {
   "cell_type": "code",
   "execution_count": 25,
   "metadata": {},
   "outputs": [],
   "source": [
    "# Change state to a boolean operator for successful and failed.\n",
    "df_feat7['state_b'] = np.where(df_feat7['state'] == 'successful', True, False)\n",
    "\n",
    "# Create dummies\n",
    "df_feat8 = pd.get_dummies(df_feat7, columns=['state_b'], drop_first=True)\n",
    "\n",
    "# Drop columns\n",
    "df_feat8 = df_feat8.drop(columns=[\"state\"])"
   ]
  },
  {
   "cell_type": "code",
   "execution_count": 26,
   "metadata": {},
   "outputs": [],
   "source": [
    "# Change creator name to a boolean operator for long or short creator name based on word count.\n",
    "df_feat8['creator_name_nwords'] = df_feat8['creator_name'].str.count(' ') + 1\n",
    "df_feat8['long_creator_name'] = np.where(df_feat8['creator_name_nwords'] > 2, True, False)\n",
    "\n",
    "# Create dummies\n",
    "df_feat9 = pd.get_dummies(df_feat8, columns=['long_creator_name'], drop_first=True)\n",
    "\n",
    "# Drop columns\n",
    "df_feat9 = df_feat9.drop(columns=['creator_name','creator_name_nwords'])"
   ]
  },
  {
   "cell_type": "markdown",
   "metadata": {},
   "source": [
    "### Dealing with outliers of numeric features"
   ]
  },
  {
   "cell_type": "code",
   "execution_count": 27,
   "metadata": {},
   "outputs": [
    {
     "data": {
      "text/plain": [
       "Index(['backers_count', 'id', 'usd_pledged', 'category_name', 'category_id',\n",
       "       'category_parent_id', 'usd_goal', 'duration_days', 'duration_days_prep',\n",
       "       'year_deadline', 'month_deadline', 'weekday_deadline',\n",
       "       'weekday_launched_at', 'winter_deadline_True', 'spring_deadline_True',\n",
       "       'summer_deadline_True', 'deadline_weekend_True',\n",
       "       'launched_weekend_True', 'country_US_True', 'eastcoast_True',\n",
       "       'long_blurb_True', 'long_name_True', 'state_b_True',\n",
       "       'long_creator_name_True'],\n",
       "      dtype='object')"
      ]
     },
     "execution_count": 27,
     "metadata": {},
     "output_type": "execute_result"
    }
   ],
   "source": [
    "df_feat9.columns"
   ]
  },
  {
   "cell_type": "code",
   "execution_count": 28,
   "metadata": {},
   "outputs": [
    {
     "data": {
      "text/plain": [
       "count     166,192.00\n",
       "mean       19,490.07\n",
       "std        78,516.05\n",
       "min           100.00\n",
       "25%         1,502.45\n",
       "50%         5,000.00\n",
       "75%        13,256.80\n",
       "max     2,000,000.00\n",
       "Name: usd_goal, dtype: float64"
      ]
     },
     "execution_count": 28,
     "metadata": {},
     "output_type": "execute_result"
    }
   ],
   "source": [
    "# usd_goal: min is 100 USD, max is successfully pledged project with highest goal.\n",
    "highest_goal = df_feat9[df_feat9.state_b_True == 1].usd_goal.max()\n",
    "df = df_feat9.loc[((df_feat9.usd_goal >= 100.0) & (df_feat9.usd_goal <= highest_goal))]\n",
    "df.usd_goal.describe()"
   ]
  },
  {
   "cell_type": "code",
   "execution_count": 29,
   "metadata": {},
   "outputs": [
    {
     "data": {
      "text/plain": [
       "2787"
      ]
     },
     "execution_count": 29,
     "metadata": {},
     "output_type": "execute_result"
    }
   ],
   "source": [
    "# Check data loss\n",
    "df_feat9.shape[0]-df.shape[0]"
   ]
  },
  {
   "cell_type": "code",
   "execution_count": 30,
   "metadata": {},
   "outputs": [
    {
     "data": {
      "text/html": [
       "<div>\n",
       "<style scoped>\n",
       "    .dataframe tbody tr th:only-of-type {\n",
       "        vertical-align: middle;\n",
       "    }\n",
       "\n",
       "    .dataframe tbody tr th {\n",
       "        vertical-align: top;\n",
       "    }\n",
       "\n",
       "    .dataframe thead th {\n",
       "        text-align: right;\n",
       "    }\n",
       "</style>\n",
       "<table border=\"1\" class=\"dataframe\">\n",
       "  <thead>\n",
       "    <tr style=\"text-align: right;\">\n",
       "      <th></th>\n",
       "      <th>backers_count</th>\n",
       "      <th>id</th>\n",
       "      <th>usd_pledged</th>\n",
       "      <th>category_id</th>\n",
       "      <th>category_parent_id</th>\n",
       "      <th>usd_goal</th>\n",
       "      <th>duration_days</th>\n",
       "      <th>duration_days_prep</th>\n",
       "      <th>winter_deadline_True</th>\n",
       "      <th>spring_deadline_True</th>\n",
       "      <th>summer_deadline_True</th>\n",
       "      <th>deadline_weekend_True</th>\n",
       "      <th>launched_weekend_True</th>\n",
       "      <th>country_US_True</th>\n",
       "      <th>eastcoast_True</th>\n",
       "      <th>long_blurb_True</th>\n",
       "      <th>long_name_True</th>\n",
       "      <th>state_b_True</th>\n",
       "      <th>long_creator_name_True</th>\n",
       "    </tr>\n",
       "  </thead>\n",
       "  <tbody>\n",
       "    <tr>\n",
       "      <th>count</th>\n",
       "      <td>166,192.00</td>\n",
       "      <td>166,192.00</td>\n",
       "      <td>166,192.00</td>\n",
       "      <td>166,192.00</td>\n",
       "      <td>166,192.00</td>\n",
       "      <td>166,192.00</td>\n",
       "      <td>166,192.00</td>\n",
       "      <td>166,192.00</td>\n",
       "      <td>166,192.00</td>\n",
       "      <td>166,192.00</td>\n",
       "      <td>166,192.00</td>\n",
       "      <td>166,192.00</td>\n",
       "      <td>166,192.00</td>\n",
       "      <td>166,192.00</td>\n",
       "      <td>166,192.00</td>\n",
       "      <td>166,192.00</td>\n",
       "      <td>166,192.00</td>\n",
       "      <td>166,192.00</td>\n",
       "      <td>166,192.00</td>\n",
       "    </tr>\n",
       "    <tr>\n",
       "      <th>mean</th>\n",
       "      <td>141.99</td>\n",
       "      <td>1,073,397,001.68</td>\n",
       "      <td>12,297.14</td>\n",
       "      <td>171.83</td>\n",
       "      <td>12.51</td>\n",
       "      <td>19,490.07</td>\n",
       "      <td>32.72</td>\n",
       "      <td>47.01</td>\n",
       "      <td>0.22</td>\n",
       "      <td>0.26</td>\n",
       "      <td>0.27</td>\n",
       "      <td>0.30</td>\n",
       "      <td>0.15</td>\n",
       "      <td>0.73</td>\n",
       "      <td>0.37</td>\n",
       "      <td>0.54</td>\n",
       "      <td>0.51</td>\n",
       "      <td>0.56</td>\n",
       "      <td>0.24</td>\n",
       "    </tr>\n",
       "    <tr>\n",
       "      <th>std</th>\n",
       "      <td>901.95</td>\n",
       "      <td>619,431,950.59</td>\n",
       "      <td>84,403.00</td>\n",
       "      <td>134.30</td>\n",
       "      <td>6.28</td>\n",
       "      <td>78,516.05</td>\n",
       "      <td>11.69</td>\n",
       "      <td>127.88</td>\n",
       "      <td>0.41</td>\n",
       "      <td>0.44</td>\n",
       "      <td>0.44</td>\n",
       "      <td>0.46</td>\n",
       "      <td>0.35</td>\n",
       "      <td>0.45</td>\n",
       "      <td>0.48</td>\n",
       "      <td>0.50</td>\n",
       "      <td>0.50</td>\n",
       "      <td>0.50</td>\n",
       "      <td>0.43</td>\n",
       "    </tr>\n",
       "    <tr>\n",
       "      <th>min</th>\n",
       "      <td>0.00</td>\n",
       "      <td>8,624.00</td>\n",
       "      <td>0.00</td>\n",
       "      <td>1.00</td>\n",
       "      <td>1.00</td>\n",
       "      <td>100.00</td>\n",
       "      <td>1.00</td>\n",
       "      <td>0.00</td>\n",
       "      <td>0.00</td>\n",
       "      <td>0.00</td>\n",
       "      <td>0.00</td>\n",
       "      <td>0.00</td>\n",
       "      <td>0.00</td>\n",
       "      <td>0.00</td>\n",
       "      <td>0.00</td>\n",
       "      <td>0.00</td>\n",
       "      <td>0.00</td>\n",
       "      <td>0.00</td>\n",
       "      <td>0.00</td>\n",
       "    </tr>\n",
       "    <tr>\n",
       "      <th>25%</th>\n",
       "      <td>3.00</td>\n",
       "      <td>535,785,761.75</td>\n",
       "      <td>101.69</td>\n",
       "      <td>37.00</td>\n",
       "      <td>10.00</td>\n",
       "      <td>1,502.45</td>\n",
       "      <td>30.00</td>\n",
       "      <td>3.00</td>\n",
       "      <td>0.00</td>\n",
       "      <td>0.00</td>\n",
       "      <td>0.00</td>\n",
       "      <td>0.00</td>\n",
       "      <td>0.00</td>\n",
       "      <td>0.00</td>\n",
       "      <td>0.00</td>\n",
       "      <td>0.00</td>\n",
       "      <td>0.00</td>\n",
       "      <td>0.00</td>\n",
       "      <td>0.00</td>\n",
       "    </tr>\n",
       "    <tr>\n",
       "      <th>50%</th>\n",
       "      <td>26.00</td>\n",
       "      <td>1,074,926,261.00</td>\n",
       "      <td>1,524.22</td>\n",
       "      <td>250.00</td>\n",
       "      <td>12.00</td>\n",
       "      <td>5,000.00</td>\n",
       "      <td>30.00</td>\n",
       "      <td>11.00</td>\n",
       "      <td>0.00</td>\n",
       "      <td>0.00</td>\n",
       "      <td>0.00</td>\n",
       "      <td>0.00</td>\n",
       "      <td>0.00</td>\n",
       "      <td>1.00</td>\n",
       "      <td>0.00</td>\n",
       "      <td>1.00</td>\n",
       "      <td>1.00</td>\n",
       "      <td>1.00</td>\n",
       "      <td>0.00</td>\n",
       "    </tr>\n",
       "    <tr>\n",
       "      <th>75%</th>\n",
       "      <td>86.00</td>\n",
       "      <td>1,608,503,247.50</td>\n",
       "      <td>6,372.99</td>\n",
       "      <td>300.00</td>\n",
       "      <td>16.00</td>\n",
       "      <td>13,256.80</td>\n",
       "      <td>34.00</td>\n",
       "      <td>36.00</td>\n",
       "      <td>0.00</td>\n",
       "      <td>1.00</td>\n",
       "      <td>1.00</td>\n",
       "      <td>1.00</td>\n",
       "      <td>0.00</td>\n",
       "      <td>1.00</td>\n",
       "      <td>1.00</td>\n",
       "      <td>1.00</td>\n",
       "      <td>1.00</td>\n",
       "      <td>1.00</td>\n",
       "      <td>0.00</td>\n",
       "    </tr>\n",
       "    <tr>\n",
       "      <th>max</th>\n",
       "      <td>105,857.00</td>\n",
       "      <td>2,147,476,221.00</td>\n",
       "      <td>8,596,474.58</td>\n",
       "      <td>389.00</td>\n",
       "      <td>27.00</td>\n",
       "      <td>2,000,000.00</td>\n",
       "      <td>93.00</td>\n",
       "      <td>3,304.00</td>\n",
       "      <td>1.00</td>\n",
       "      <td>1.00</td>\n",
       "      <td>1.00</td>\n",
       "      <td>1.00</td>\n",
       "      <td>1.00</td>\n",
       "      <td>1.00</td>\n",
       "      <td>1.00</td>\n",
       "      <td>1.00</td>\n",
       "      <td>1.00</td>\n",
       "      <td>1.00</td>\n",
       "      <td>1.00</td>\n",
       "    </tr>\n",
       "  </tbody>\n",
       "</table>\n",
       "</div>"
      ],
      "text/plain": [
       "       backers_count               id  usd_pledged  category_id  \\\n",
       "count     166,192.00       166,192.00   166,192.00   166,192.00   \n",
       "mean          141.99 1,073,397,001.68    12,297.14       171.83   \n",
       "std           901.95   619,431,950.59    84,403.00       134.30   \n",
       "min             0.00         8,624.00         0.00         1.00   \n",
       "25%             3.00   535,785,761.75       101.69        37.00   \n",
       "50%            26.00 1,074,926,261.00     1,524.22       250.00   \n",
       "75%            86.00 1,608,503,247.50     6,372.99       300.00   \n",
       "max       105,857.00 2,147,476,221.00 8,596,474.58       389.00   \n",
       "\n",
       "       category_parent_id     usd_goal  duration_days  duration_days_prep  \\\n",
       "count          166,192.00   166,192.00     166,192.00          166,192.00   \n",
       "mean                12.51    19,490.07          32.72               47.01   \n",
       "std                  6.28    78,516.05          11.69              127.88   \n",
       "min                  1.00       100.00           1.00                0.00   \n",
       "25%                 10.00     1,502.45          30.00                3.00   \n",
       "50%                 12.00     5,000.00          30.00               11.00   \n",
       "75%                 16.00    13,256.80          34.00               36.00   \n",
       "max                 27.00 2,000,000.00          93.00            3,304.00   \n",
       "\n",
       "       winter_deadline_True  spring_deadline_True  summer_deadline_True  \\\n",
       "count            166,192.00            166,192.00            166,192.00   \n",
       "mean                   0.22                  0.26                  0.27   \n",
       "std                    0.41                  0.44                  0.44   \n",
       "min                    0.00                  0.00                  0.00   \n",
       "25%                    0.00                  0.00                  0.00   \n",
       "50%                    0.00                  0.00                  0.00   \n",
       "75%                    0.00                  1.00                  1.00   \n",
       "max                    1.00                  1.00                  1.00   \n",
       "\n",
       "       deadline_weekend_True  launched_weekend_True  country_US_True  \\\n",
       "count             166,192.00             166,192.00       166,192.00   \n",
       "mean                    0.30                   0.15             0.73   \n",
       "std                     0.46                   0.35             0.45   \n",
       "min                     0.00                   0.00             0.00   \n",
       "25%                     0.00                   0.00             0.00   \n",
       "50%                     0.00                   0.00             1.00   \n",
       "75%                     1.00                   0.00             1.00   \n",
       "max                     1.00                   1.00             1.00   \n",
       "\n",
       "       eastcoast_True  long_blurb_True  long_name_True  state_b_True  \\\n",
       "count      166,192.00       166,192.00      166,192.00    166,192.00   \n",
       "mean             0.37             0.54            0.51          0.56   \n",
       "std              0.48             0.50            0.50          0.50   \n",
       "min              0.00             0.00            0.00          0.00   \n",
       "25%              0.00             0.00            0.00          0.00   \n",
       "50%              0.00             1.00            1.00          1.00   \n",
       "75%              1.00             1.00            1.00          1.00   \n",
       "max              1.00             1.00            1.00          1.00   \n",
       "\n",
       "       long_creator_name_True  \n",
       "count              166,192.00  \n",
       "mean                     0.24  \n",
       "std                      0.43  \n",
       "min                      0.00  \n",
       "25%                      0.00  \n",
       "50%                      0.00  \n",
       "75%                      0.00  \n",
       "max                      1.00  "
      ]
     },
     "execution_count": 30,
     "metadata": {},
     "output_type": "execute_result"
    }
   ],
   "source": [
    "# check for more outliers\n",
    "df.describe()"
   ]
  },
  {
   "cell_type": "code",
   "execution_count": 31,
   "metadata": {},
   "outputs": [],
   "source": [
    "# One day seems short for a project duration.\n",
    "check1 = df[df.duration_days == 1]\n",
    "#check1\n",
    "# Some projects were successful after one day, so we can keep it."
   ]
  },
  {
   "cell_type": "code",
   "execution_count": 32,
   "metadata": {},
   "outputs": [],
   "source": [
    "# More than 2000 days of preparation time between creating and launching the project seems large.\n",
    "check2 = df[df.duration_days_prep > 2000]\n",
    "#check2\n",
    "# Some of these projects were movies, for which much preparation time is needed."
   ]
  },
  {
   "cell_type": "code",
   "execution_count": 40,
   "metadata": {},
   "outputs": [
    {
     "name": "stdout",
     "output_type": "stream",
     "text": [
      "original_set:  209222\n",
      "trimmed_set:  166192\n",
      "difference ((original-trimmed)/original):  0.20566670808997142\n"
     ]
    }
   ],
   "source": [
    "print(\"original_set: \",df_init.shape[0])\n",
    "print(\"trimmed_set: \",df.shape[0])\n",
    "print(\"difference ((original-trimmed)/original): \",(df_init.shape[0]-df.shape[0])/df_init.shape[0])"
   ]
  },
  {
   "cell_type": "code",
   "execution_count": 33,
   "metadata": {},
   "outputs": [],
   "source": [
    "# Save the cleaned dataset\n",
    "df.to_csv('data/Kickstarter_cleaned2.csv')"
   ]
  }
 ],
 "metadata": {
  "kernelspec": {
   "display_name": "Python 3",
   "language": "python",
   "name": "python3"
  },
  "language_info": {
   "codemirror_mode": {
    "name": "ipython",
    "version": 3
   },
   "file_extension": ".py",
   "mimetype": "text/x-python",
   "name": "python",
   "nbconvert_exporter": "python",
   "pygments_lexer": "ipython3",
   "version": "3.8.5"
  }
 },
 "nbformat": 4,
 "nbformat_minor": 4
}
