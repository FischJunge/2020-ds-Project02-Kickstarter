{
 "cells": [
  {
   "cell_type": "markdown",
   "metadata": {},
   "source": [
    "# Initial data cleaning"
   ]
  },
  {
   "cell_type": "code",
   "execution_count": 1,
   "metadata": {},
   "outputs": [],
   "source": [
    "import numpy as np\n",
    "import pandas as pd\n",
    "import json\n",
    "\n",
    "# Visualization\n",
    "import seaborn as sns\n",
    "import matplotlib.pyplot as plt\n",
    "%matplotlib inline"
   ]
  },
  {
   "cell_type": "code",
   "execution_count": 2,
   "metadata": {},
   "outputs": [],
   "source": [
    "# Loading dataset and dropping the first column, because it contains rownumbers\n",
    "df = pd.read_csv('data/Kickstarter_merged.csv')\n",
    "df = df.drop(columns='Unnamed: 0', axis=1) "
   ]
  },
  {
   "cell_type": "code",
   "execution_count": 3,
   "metadata": {},
   "outputs": [
    {
     "data": {
      "text/plain": [
       "Index(['backers_count', 'blurb', 'category', 'converted_pledged_amount',\n",
       "       'country', 'created_at', 'creator', 'currency', 'currency_symbol',\n",
       "       'currency_trailing_code', 'current_currency', 'deadline',\n",
       "       'disable_communication', 'friends', 'fx_rate', 'goal', 'id',\n",
       "       'is_backing', 'is_starrable', 'is_starred', 'launched_at', 'location',\n",
       "       'name', 'permissions', 'photo', 'pledged', 'profile', 'slug',\n",
       "       'source_url', 'spotlight', 'staff_pick', 'state', 'state_changed_at',\n",
       "       'static_usd_rate', 'urls', 'usd_pledged', 'usd_type'],\n",
       "      dtype='object')"
      ]
     },
     "execution_count": 3,
     "metadata": {},
     "output_type": "execute_result"
    }
   ],
   "source": [
    "# Print the column names\n",
    "df.columns"
   ]
  },
  {
   "cell_type": "code",
   "execution_count": 4,
   "metadata": {},
   "outputs": [],
   "source": [
    "# look at the first 10 rows of the columns 0 to 10 to find odd values\n",
    "#df.iloc[0:10, 0:11]"
   ]
  },
  {
   "cell_type": "markdown",
   "metadata": {},
   "source": [
    "Columns 1 to 10: 'backers_count', 'blurb', 'category', 'converted_pledged_amount',\n",
    "       'country', 'created_at', 'creator', 'currency', 'currency_symbol',\n",
    "       'currency_trailing_code', 'current_currency'\n",
    "* There are too many values in the columns category and creator.\n",
    "* The column created_at has values that do not look like time data."
   ]
  },
  {
   "cell_type": "code",
   "execution_count": 23,
   "metadata": {},
   "outputs": [
    {
     "data": {
      "text/plain": [
       "'{\"id\":266,\"name\":\"Footwear\",\"slug\":\"fashion/footwear\",\"position\":5,\"parent_id\":9,\"color\":16752598,\"urls\":{\"web\":{\"discover\":\"http://www.kickstarter.com/discover/categories/fashion/footwear\"}}}'"
      ]
     },
     "execution_count": 23,
     "metadata": {},
     "output_type": "execute_result"
    }
   ],
   "source": [
    "df.category[0]"
   ]
  },
  {
   "cell_type": "code",
   "execution_count": 6,
   "metadata": {},
   "outputs": [
    {
     "name": "stdout",
     "output_type": "stream",
     "text": [
      "Footwear\n"
     ]
    }
   ],
   "source": [
    "# Get name out of JSON formatted dictionary\n",
    "import json\n",
    "n = json.loads(df.category[0])\n",
    "print(n.get(\"name\"))"
   ]
  },
  {
   "cell_type": "code",
   "execution_count": 13,
   "metadata": {},
   "outputs": [
    {
     "name": "stderr",
     "output_type": "stream",
     "text": [
      "<ipython-input-13-0f0fe850fc0b>:6: SettingWithCopyWarning: \n",
      "A value is trying to be set on a copy of a slice from a DataFrame\n",
      "\n",
      "See the caveats in the documentation: https://pandas.pydata.org/pandas-docs/stable/user_guide/indexing.html#returning-a-view-versus-a-copy\n",
      "  df.category_name[i] = dict_cat.get(\"name\")\n"
     ]
    }
   ],
   "source": [
    "# Extract the category name and make a new column with the category name\n",
    "df[\"category_name\"] = \"\"\n",
    "for i in range(len(df.category)):\n",
    "    try:\n",
    "        dict_cat = json.loads(df.category[i])\n",
    "        df.category_name[i] = dict_cat.get(\"name\")\n",
    "    except:\n",
    "        df.category_name[i] = NaN"
   ]
  },
  {
   "cell_type": "code",
   "execution_count": 22,
   "metadata": {},
   "outputs": [
    {
     "data": {
      "text/plain": [
       "'{\"id\":2094277840,\"name\":\"Lucy Conroy\",\"slug\":\"babalus\",\"is_registered\":null,\"chosen_currency\":null,\"avatar\":{\"thumb\":\"https://ksr-ugc.imgix.net/assets/023/784/556/6ed11b25c853ec1aef7f4360d0eb59ef_original.jpg?ixlib=rb-1.1.0&w=40&h=40&fit=crop&v=1548222691&auto=format&frame=1&q=92&s=b64463d8ae6195f7aeb62393e2ca2dde\",\"small\":\"https://ksr-ugc.imgix.net/assets/023/784/556/6ed11b25c853ec1aef7f4360d0eb59ef_original.jpg?ixlib=rb-1.1.0&w=160&h=160&fit=crop&v=1548222691&auto=format&frame=1&q=92&s=00bc518b23a932bd76fb6e21f4eb6834\",\"medium\":\"https://ksr-ugc.imgix.net/assets/023/784/556/6ed11b25c853ec1aef7f4360d0eb59ef_original.jpg?ixlib=rb-1.1.0&w=160&h=160&fit=crop&v=1548222691&auto=format&frame=1&q=92&s=00bc518b23a932bd76fb6e21f4eb6834\"},\"urls\":{\"web\":{\"user\":\"https://www.kickstarter.com/profile/babalus\"},\"api\":{\"user\":\"https://api.kickstarter.com/v1/users/2094277840?signature=1552621545.c7a32fed985a78dec253fe61c1acb7a99edbc0af\"}}}'"
      ]
     },
     "execution_count": 22,
     "metadata": {},
     "output_type": "execute_result"
    }
   ],
   "source": [
    "df.creator[0]"
   ]
  },
  {
   "cell_type": "code",
   "execution_count": 8,
   "metadata": {},
   "outputs": [
    {
     "name": "stdout",
     "output_type": "stream",
     "text": [
      "Lucy Conroy\n"
     ]
    }
   ],
   "source": [
    "# Get name out of json formatted library\n",
    "import json\n",
    "m = json.loads(df.creator[0])\n",
    "print(m.get(\"name\"))"
   ]
  },
  {
   "cell_type": "code",
   "execution_count": 11,
   "metadata": {},
   "outputs": [
    {
     "name": "stderr",
     "output_type": "stream",
     "text": [
      "<ipython-input-11-64d35ce5b5dc>:6: SettingWithCopyWarning: \n",
      "A value is trying to be set on a copy of a slice from a DataFrame\n",
      "\n",
      "See the caveats in the documentation: https://pandas.pydata.org/pandas-docs/stable/user_guide/indexing.html#returning-a-view-versus-a-copy\n",
      "  df.creator_name[j] = dict_cre.get(\"name\")\n",
      "<ipython-input-11-64d35ce5b5dc>:8: SettingWithCopyWarning: \n",
      "A value is trying to be set on a copy of a slice from a DataFrame\n",
      "\n",
      "See the caveats in the documentation: https://pandas.pydata.org/pandas-docs/stable/user_guide/indexing.html#returning-a-view-versus-a-copy\n",
      "  df.creator_name[j] = 'NaN'\n"
     ]
    }
   ],
   "source": [
    "# Extract the creator name and make a new column with the creator name\n",
    "df[\"creator_name\"] = \"\"\n",
    "for j in range(len(df.creator)):\n",
    "    try:\n",
    "        dict_cre = json.loads(df.creator[j])\n",
    "        df.creator_name[j] = dict_cre.get(\"name\")\n",
    "    except:\n",
    "        df.creator_name[j] = 'NaN'"
   ]
  },
  {
   "cell_type": "code",
   "execution_count": null,
   "metadata": {},
   "outputs": [],
   "source": [
    "# look at the first 10 rows of the columns 11 to 20 to find odd values\n",
    "df.iloc[0:10, 11:21]"
   ]
  },
  {
   "cell_type": "markdown",
   "metadata": {},
   "source": [
    "Columns 11 to 20: 'deadline',\n",
    "       'disable_communication', 'friends', 'fx_rate', 'goal', 'id',\n",
    "       'is_backing', 'is_starrable', 'is_starred', 'launched_at'\n",
    "* There are many NaN in the columns friends, is_backing and is_starred.\n",
    "* The columns deadline and launched_at have values that do not look like time data."
   ]
  },
  {
   "cell_type": "code",
   "execution_count": null,
   "metadata": {},
   "outputs": [],
   "source": [
    "# look at the first 10 rows of the columns 21 to 30 to find odd values\n",
    "df.iloc[0:10, 21:31]"
   ]
  },
  {
   "cell_type": "markdown",
   "metadata": {},
   "source": [
    "Columns 21 to 30: 'location', 'name', 'permissions', 'photo', 'pledged', 'profile', 'slug','source_url', 'spotlight', 'staff_pick'\n",
    "* There are too many values in the columns location and profile.\n",
    "* The column photo is a dictionary.\n",
    "* There are many NaN in the column permissions."
   ]
  },
  {
   "cell_type": "code",
   "execution_count": 12,
   "metadata": {},
   "outputs": [
    {
     "data": {
      "text/plain": [
       "'{\"id\":2462429,\"name\":\"Novato\",\"slug\":\"novato-ca\",\"short_name\":\"Novato, CA\",\"displayable_name\":\"Novato, CA\",\"localized_name\":\"Novato\",\"country\":\"US\",\"state\":\"CA\",\"type\":\"Town\",\"is_root\":false,\"urls\":{\"web\":{\"discover\":\"https://www.kickstarter.com/discover/places/novato-ca\",\"location\":\"https://www.kickstarter.com/locations/novato-ca\"},\"api\":{\"nearby_projects\":\"https://api.kickstarter.com/v1/discover?signature=1552595066.49b64db66a5124f5831752d055cd09aff20cc652&woe_id=2462429\"}}}'"
      ]
     },
     "execution_count": 12,
     "metadata": {},
     "output_type": "execute_result"
    }
   ],
   "source": [
    "df.location[0]"
   ]
  },
  {
   "cell_type": "code",
   "execution_count": 14,
   "metadata": {},
   "outputs": [
    {
     "name": "stderr",
     "output_type": "stream",
     "text": [
      "<ipython-input-14-9cbeb38a38cb>:6: SettingWithCopyWarning: \n",
      "A value is trying to be set on a copy of a slice from a DataFrame\n",
      "\n",
      "See the caveats in the documentation: https://pandas.pydata.org/pandas-docs/stable/user_guide/indexing.html#returning-a-view-versus-a-copy\n",
      "  df.location_name[k] = dict_loc.get(\"name\")\n",
      "<ipython-input-14-9cbeb38a38cb>:8: SettingWithCopyWarning: \n",
      "A value is trying to be set on a copy of a slice from a DataFrame\n",
      "\n",
      "See the caveats in the documentation: https://pandas.pydata.org/pandas-docs/stable/user_guide/indexing.html#returning-a-view-versus-a-copy\n",
      "  df.location_name[k] = 'NaN'\n"
     ]
    }
   ],
   "source": [
    "# Extract the location name and make a new column with the location name\n",
    "df[\"location_name\"] = \"\"\n",
    "for k in range(len(df.location)):\n",
    "    try:\n",
    "        dict_loc = json.loads(df.location[k])\n",
    "        df.location_name[k] = dict_loc.get(\"name\")\n",
    "    except:\n",
    "        df.location_name[k] = 'NaN'"
   ]
  },
  {
   "cell_type": "code",
   "execution_count": 19,
   "metadata": {},
   "outputs": [
    {
     "data": {
      "text/plain": [
       "'{\"id\":3508024,\"project_id\":3508024,\"state\":\"inactive\",\"state_changed_at\":1541459205,\"name\":null,\"blurb\":null,\"background_color\":null,\"text_color\":null,\"link_background_color\":null,\"link_text_color\":null,\"link_text\":null,\"link_url\":null,\"show_feature_image\":false,\"background_image_opacity\":0.8,\"should_show_feature_image_section\":true,\"feature_image_attributes\":{\"image_urls\":{\"default\":\"https://ksr-ugc.imgix.net/assets/023/667/205/a565fde5382d6b53276597bcbf505af7_original.jpg?ixlib=rb-1.1.0&crop=faces&w=1552&h=873&fit=crop&v=1546238810&auto=format&frame=1&q=92&s=4faccb2ba6fae37a2d990e8471669753\",\"baseball_card\":\"https://ksr-ugc.imgix.net/assets/023/667/205/a565fde5382d6b53276597bcbf505af7_original.jpg?ixlib=rb-1.1.0&crop=faces&w=560&h=315&fit=crop&v=1546238810&auto=format&frame=1&q=92&s=53798a47ff4e37129dfd4d11827fa5c4\"}}}'"
      ]
     },
     "execution_count": 19,
     "metadata": {},
     "output_type": "execute_result"
    }
   ],
   "source": [
    "df.profile[0]"
   ]
  },
  {
   "cell_type": "code",
   "execution_count": 24,
   "metadata": {},
   "outputs": [
    {
     "name": "stderr",
     "output_type": "stream",
     "text": [
      "<ipython-input-24-1d66e4e5c741>:6: SettingWithCopyWarning: \n",
      "A value is trying to be set on a copy of a slice from a DataFrame\n",
      "\n",
      "See the caveats in the documentation: https://pandas.pydata.org/pandas-docs/stable/user_guide/indexing.html#returning-a-view-versus-a-copy\n",
      "  df.profile_name[l] = dict_cre.get(\"name\")\n",
      "<ipython-input-24-1d66e4e5c741>:8: SettingWithCopyWarning: \n",
      "A value is trying to be set on a copy of a slice from a DataFrame\n",
      "\n",
      "See the caveats in the documentation: https://pandas.pydata.org/pandas-docs/stable/user_guide/indexing.html#returning-a-view-versus-a-copy\n",
      "  df.profile_name[l] = 'NaN'\n"
     ]
    }
   ],
   "source": [
    "# Extract the profile name and make a new column with the profile name\n",
    "df[\"profile_name\"] = \"\"\n",
    "for l in range(len(df.profile)):\n",
    "    try:\n",
    "        dict_cre = json.loads(df.profile[l])\n",
    "        df.profile_name[l] = dict_cre.get(\"name\")\n",
    "    except:\n",
    "        df.profile_name[l] = 'NaN'"
   ]
  },
  {
   "cell_type": "code",
   "execution_count": 27,
   "metadata": {},
   "outputs": [
    {
     "data": {
      "text/html": [
       "<div>\n",
       "<style scoped>\n",
       "    .dataframe tbody tr th:only-of-type {\n",
       "        vertical-align: middle;\n",
       "    }\n",
       "\n",
       "    .dataframe tbody tr th {\n",
       "        vertical-align: top;\n",
       "    }\n",
       "\n",
       "    .dataframe thead th {\n",
       "        text-align: right;\n",
       "    }\n",
       "</style>\n",
       "<table border=\"1\" class=\"dataframe\">\n",
       "  <thead>\n",
       "    <tr style=\"text-align: right;\">\n",
       "      <th></th>\n",
       "      <th>usd_pledged</th>\n",
       "      <th>usd_type</th>\n",
       "      <th>category_name</th>\n",
       "      <th>creator_name</th>\n",
       "      <th>location_name</th>\n",
       "      <th>profile_name</th>\n",
       "    </tr>\n",
       "  </thead>\n",
       "  <tbody>\n",
       "    <tr>\n",
       "      <th>0</th>\n",
       "      <td>28645.000000</td>\n",
       "      <td>international</td>\n",
       "      <td>Footwear</td>\n",
       "      <td>Lucy Conroy</td>\n",
       "      <td>Novato</td>\n",
       "      <td>None</td>\n",
       "    </tr>\n",
       "    <tr>\n",
       "      <th>1</th>\n",
       "      <td>1950.000000</td>\n",
       "      <td>domestic</td>\n",
       "      <td>Playing Cards</td>\n",
       "      <td>Lisa Vollrath</td>\n",
       "      <td>Euless</td>\n",
       "      <td>The Ofrenda Oracle Deck</td>\n",
       "    </tr>\n",
       "    <tr>\n",
       "      <th>2</th>\n",
       "      <td>22404.000000</td>\n",
       "      <td>international</td>\n",
       "      <td>Rock</td>\n",
       "      <td>Electra</td>\n",
       "      <td>Hollywood</td>\n",
       "      <td>None</td>\n",
       "    </tr>\n",
       "    <tr>\n",
       "      <th>3</th>\n",
       "      <td>165.384934</td>\n",
       "      <td>domestic</td>\n",
       "      <td>Playing Cards</td>\n",
       "      <td>Artur Ordijanc (deleted)</td>\n",
       "      <td>Kaunas</td>\n",
       "      <td>None</td>\n",
       "    </tr>\n",
       "    <tr>\n",
       "      <th>4</th>\n",
       "      <td>2820.000000</td>\n",
       "      <td>domestic</td>\n",
       "      <td>Nonfiction</td>\n",
       "      <td>Dawn Johnston</td>\n",
       "      <td>Traverse City</td>\n",
       "      <td>None</td>\n",
       "    </tr>\n",
       "    <tr>\n",
       "      <th>5</th>\n",
       "      <td>3725.000000</td>\n",
       "      <td>domestic</td>\n",
       "      <td>Classical Music</td>\n",
       "      <td>Annapolis Chamber Players</td>\n",
       "      <td>Annapolis</td>\n",
       "      <td>None</td>\n",
       "    </tr>\n",
       "    <tr>\n",
       "      <th>6</th>\n",
       "      <td>3890.000000</td>\n",
       "      <td>domestic</td>\n",
       "      <td>Classical Music</td>\n",
       "      <td>The Tekalli Duo</td>\n",
       "      <td>New Haven</td>\n",
       "      <td>None</td>\n",
       "    </tr>\n",
       "    <tr>\n",
       "      <th>7</th>\n",
       "      <td>660.000000</td>\n",
       "      <td>international</td>\n",
       "      <td>Music</td>\n",
       "      <td>funktoast</td>\n",
       "      <td>Kaysville</td>\n",
       "      <td>None</td>\n",
       "    </tr>\n",
       "    <tr>\n",
       "      <th>8</th>\n",
       "      <td>529.786729</td>\n",
       "      <td>international</td>\n",
       "      <td>Immersive</td>\n",
       "      <td>Overflow Theatre Company</td>\n",
       "      <td>Northampton</td>\n",
       "      <td>None</td>\n",
       "    </tr>\n",
       "    <tr>\n",
       "      <th>9</th>\n",
       "      <td>2516.160602</td>\n",
       "      <td>international</td>\n",
       "      <td>Accessories</td>\n",
       "      <td>Lauren Ackerley</td>\n",
       "      <td>Wolverhampton</td>\n",
       "      <td>None</td>\n",
       "    </tr>\n",
       "  </tbody>\n",
       "</table>\n",
       "</div>"
      ],
      "text/plain": [
       "    usd_pledged       usd_type    category_name               creator_name  \\\n",
       "0  28645.000000  international         Footwear                Lucy Conroy   \n",
       "1   1950.000000       domestic    Playing Cards              Lisa Vollrath   \n",
       "2  22404.000000  international             Rock                    Electra   \n",
       "3    165.384934       domestic    Playing Cards   Artur Ordijanc (deleted)   \n",
       "4   2820.000000       domestic       Nonfiction              Dawn Johnston   \n",
       "5   3725.000000       domestic  Classical Music  Annapolis Chamber Players   \n",
       "6   3890.000000       domestic  Classical Music            The Tekalli Duo   \n",
       "7    660.000000  international            Music                  funktoast   \n",
       "8    529.786729  international        Immersive   Overflow Theatre Company   \n",
       "9   2516.160602  international      Accessories            Lauren Ackerley   \n",
       "\n",
       "   location_name             profile_name  \n",
       "0         Novato                     None  \n",
       "1         Euless  The Ofrenda Oracle Deck  \n",
       "2      Hollywood                     None  \n",
       "3         Kaunas                     None  \n",
       "4  Traverse City                     None  \n",
       "5      Annapolis                     None  \n",
       "6      New Haven                     None  \n",
       "7      Kaysville                     None  \n",
       "8    Northampton                     None  \n",
       "9  Wolverhampton                     None  "
      ]
     },
     "execution_count": 27,
     "metadata": {},
     "output_type": "execute_result"
    }
   ],
   "source": [
    "# look at the first 10 rows of the columns 31 to 36 to find odd values\n",
    "df.iloc[0:10, 31:37]"
   ]
  },
  {
   "cell_type": "markdown",
   "metadata": {},
   "source": [
    "Columns 31 to 37: 'state', 'state_changed_at', 'static_usd_rate', 'urls', 'usd_pledged', 'usd_type'\n",
    "* The column state_changed_at has values that do not look like time data."
   ]
  },
  {
   "cell_type": "code",
   "execution_count": null,
   "metadata": {},
   "outputs": [],
   "source": [
    "# delete columns category, creator, location and profile\n",
    "df.drop(['category','creator','location','profile'], axis=1, inplace=True)"
   ]
  }
 ],
 "metadata": {
  "kernelspec": {
   "display_name": "Python 3",
   "language": "python",
   "name": "python3"
  },
  "language_info": {
   "codemirror_mode": {
    "name": "ipython",
    "version": 3
   },
   "file_extension": ".py",
   "mimetype": "text/x-python",
   "name": "python",
   "nbconvert_exporter": "python",
   "pygments_lexer": "ipython3",
   "version": "3.8.5"
  }
 },
 "nbformat": 4,
 "nbformat_minor": 4
}
