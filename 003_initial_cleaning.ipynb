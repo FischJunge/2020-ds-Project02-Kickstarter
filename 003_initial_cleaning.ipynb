{
 "cells": [
  {
   "cell_type": "markdown",
   "metadata": {},
   "source": [
    "# Initial data cleaning"
   ]
  },
  {
   "cell_type": "code",
   "execution_count": 1,
   "metadata": {},
   "outputs": [],
   "source": [
    "import numpy as np\n",
    "import pandas as pd\n",
    "import json\n",
    "\n",
    "# Visualization\n",
    "import seaborn as sns\n",
    "import matplotlib.pyplot as plt\n",
    "%matplotlib inline"
   ]
  },
  {
   "cell_type": "code",
   "execution_count": 2,
   "metadata": {},
   "outputs": [],
   "source": [
    "# Loading dataset and dropping the first column, because it contains rownumbers\n",
    "df = pd.read_csv('data/Kickstarter_merged.csv')\n",
    "df = df.drop(columns='Unnamed: 0', axis=1) "
   ]
  },
  {
   "cell_type": "code",
   "execution_count": 3,
   "metadata": {},
   "outputs": [
    {
     "data": {
      "text/plain": [
       "Index(['backers_count', 'blurb', 'category', 'converted_pledged_amount',\n",
       "       'country', 'created_at', 'creator', 'currency', 'currency_symbol',\n",
       "       'currency_trailing_code', 'current_currency', 'deadline',\n",
       "       'disable_communication', 'friends', 'fx_rate', 'goal', 'id',\n",
       "       'is_backing', 'is_starrable', 'is_starred', 'launched_at', 'location',\n",
       "       'name', 'permissions', 'photo', 'pledged', 'profile', 'slug',\n",
       "       'source_url', 'spotlight', 'staff_pick', 'state', 'state_changed_at',\n",
       "       'static_usd_rate', 'urls', 'usd_pledged', 'usd_type'],\n",
       "      dtype='object')"
      ]
     },
     "execution_count": 3,
     "metadata": {},
     "output_type": "execute_result"
    }
   ],
   "source": [
    "# Print the column names\n",
    "df.columns"
   ]
  },
  {
   "cell_type": "code",
   "execution_count": 4,
   "metadata": {},
   "outputs": [],
   "source": [
    "# look at the first 10 rows of the columns 0 to 10 to find odd values\n",
    "#df.iloc[0:10, 0:11]"
   ]
  },
  {
   "cell_type": "markdown",
   "metadata": {},
   "source": [
    "Columns 1 to 10: 'backers_count', 'blurb', 'category', 'converted_pledged_amount',\n",
    "       'country', 'created_at', 'creator', 'currency', 'currency_symbol',\n",
    "       'currency_trailing_code', 'current_currency'\n",
    "* There are too many values in the columns category and creator.\n",
    "* The column created_at has values that do not look like time data."
   ]
  },
  {
   "cell_type": "code",
   "execution_count": 5,
   "metadata": {},
   "outputs": [
    {
     "data": {
      "text/plain": [
       "'{\"id\":266,\"name\":\"Footwear\",\"slug\":\"fashion/footwear\",\"position\":5,\"parent_id\":9,\"color\":16752598,\"urls\":{\"web\":{\"discover\":\"http://www.kickstarter.com/discover/categories/fashion/footwear\"}}}'"
      ]
     },
     "execution_count": 5,
     "metadata": {},
     "output_type": "execute_result"
    }
   ],
   "source": [
    "df.category[0]"
   ]
  },
  {
   "cell_type": "code",
   "execution_count": 6,
   "metadata": {},
   "outputs": [
    {
     "name": "stdout",
     "output_type": "stream",
     "text": [
      "Footwear\n"
     ]
    }
   ],
   "source": [
    "# Get name out of JSON formatted dictionary\n",
    "import json\n",
    "n = json.loads(df.category[0])\n",
    "print(n.get(\"name\"))"
   ]
  },
  {
   "cell_type": "code",
   "execution_count": null,
   "metadata": {},
   "outputs": [
    {
     "name": "stderr",
     "output_type": "stream",
     "text": [
      "<ipython-input-7-0f0fe850fc0b>:6: SettingWithCopyWarning: \n",
      "A value is trying to be set on a copy of a slice from a DataFrame\n",
      "\n",
      "See the caveats in the documentation: https://pandas.pydata.org/pandas-docs/stable/user_guide/indexing.html#returning-a-view-versus-a-copy\n",
      "  df.category_name[i] = dict_cat.get(\"name\")\n"
     ]
    }
   ],
   "source": [
    "# Extract the category name and make a new column with the category name\n",
    "df[\"category_name\"] = \"\"\n",
    "for i in range(len(df.category)):\n",
    "    try:\n",
    "        dict_cat = json.loads(df.category[i])\n",
    "        df.category_name[i] = dict_cat.get(\"name\")\n",
    "    except:\n",
    "        df.category_name[i] = NaN"
   ]
  },
  {
   "cell_type": "code",
   "execution_count": null,
   "metadata": {},
   "outputs": [],
   "source": [
    "df.creator[0]"
   ]
  },
  {
   "cell_type": "code",
   "execution_count": null,
   "metadata": {},
   "outputs": [],
   "source": [
    "# Get name out of json formatted library\n",
    "import json\n",
    "m = json.loads(df.creator[0])\n",
    "print(m.get(\"name\"))"
   ]
  },
  {
   "cell_type": "code",
   "execution_count": null,
   "metadata": {},
   "outputs": [],
   "source": [
    "# Extract the creator name and make a new column with the creator name\n",
    "df[\"creator_name\"] = \"\"\n",
    "for j in range(len(df.creator)):\n",
    "    try:\n",
    "        dict_cre = json.loads(df.creator[j])\n",
    "        df.creator_name[j] = dict_cre.get(\"name\")\n",
    "    except:\n",
    "        df.creator_name[j] = 'NaN'"
   ]
  },
  {
   "cell_type": "code",
   "execution_count": null,
   "metadata": {},
   "outputs": [],
   "source": [
    "# look at the first 10 rows of the columns 11 to 20 to find odd values\n",
    "df.iloc[0:10, 11:21]"
   ]
  },
  {
   "cell_type": "markdown",
   "metadata": {},
   "source": [
    "Columns 11 to 20: 'deadline',\n",
    "       'disable_communication', 'friends', 'fx_rate', 'goal', 'id',\n",
    "       'is_backing', 'is_starrable', 'is_starred', 'launched_at'\n",
    "* There are many NaN in the columns friends, is_backing and is_starred.\n",
    "* The columns deadline and launched_at have values that do not look like time data."
   ]
  },
  {
   "cell_type": "code",
   "execution_count": null,
   "metadata": {},
   "outputs": [],
   "source": [
    "# look at the first 10 rows of the columns 21 to 30 to find odd values\n",
    "df.iloc[0:10, 21:31]"
   ]
  },
  {
   "cell_type": "markdown",
   "metadata": {},
   "source": [
    "Columns 21 to 30: 'location', 'name', 'permissions', 'photo', 'pledged', 'profile', 'slug','source_url', 'spotlight', 'staff_pick'\n",
    "* There are too many values in the columns location and profile.\n",
    "* The column photo is a dictionary.\n",
    "* There are many NaN in the column permissions."
   ]
  },
  {
   "cell_type": "code",
   "execution_count": null,
   "metadata": {},
   "outputs": [],
   "source": [
    "df.location[0]"
   ]
  },
  {
   "cell_type": "code",
   "execution_count": null,
   "metadata": {},
   "outputs": [],
   "source": [
    "# Extract the location name and make a new column with the location name\n",
    "df[\"location_name\"] = \"\"\n",
    "for k in range(len(df.location)):\n",
    "    try:\n",
    "        dict_loc = json.loads(df.location[k])\n",
    "        df.location_name[k] = dict_loc.get(\"name\")\n",
    "    except:\n",
    "        df.location_name[k] = 'NaN'"
   ]
  },
  {
   "cell_type": "code",
   "execution_count": null,
   "metadata": {},
   "outputs": [],
   "source": [
    "df.profile[0]"
   ]
  },
  {
   "cell_type": "code",
   "execution_count": null,
   "metadata": {},
   "outputs": [],
   "source": [
    "# Extract the profile name and make a new column with the profile name\n",
    "df[\"profile_name\"] = \"\"\n",
    "for l in range(len(df.profile)):\n",
    "    try:\n",
    "        dict_cre = json.loads(df.profile[l])\n",
    "        df.profile_name[l] = dict_cre.get(\"name\")\n",
    "    except:\n",
    "        df.profile_name[l] = 'NaN'"
   ]
  },
  {
   "cell_type": "code",
   "execution_count": null,
   "metadata": {},
   "outputs": [],
   "source": [
    "# look at the first 10 rows of the columns 31 to 36 to find odd values\n",
    "df.iloc[0:10, 31:37]"
   ]
  },
  {
   "cell_type": "markdown",
   "metadata": {},
   "source": [
    "Columns 31 to 37: 'state', 'state_changed_at', 'static_usd_rate', 'urls', 'usd_pledged', 'usd_type'\n",
    "* The column state_changed_at has values that do not look like time data."
   ]
  },
  {
   "cell_type": "code",
   "execution_count": null,
   "metadata": {},
   "outputs": [],
   "source": [
    "# delete columns category, creator, location and profile\n",
    "df.drop(['category','creator','location','profile'], axis=1, inplace=True)"
   ]
  },
  {
   "cell_type": "code",
   "execution_count": null,
   "metadata": {},
   "outputs": [],
   "source": [
    "df.shape"
   ]
  }
 ],
 "metadata": {
  "kernelspec": {
   "display_name": "Python 3",
   "language": "python",
   "name": "python3"
  },
  "language_info": {
   "codemirror_mode": {
    "name": "ipython",
    "version": 3
   },
   "file_extension": ".py",
   "mimetype": "text/x-python",
   "name": "python",
   "nbconvert_exporter": "python",
   "pygments_lexer": "ipython3",
   "version": "3.8.3"
  }
 },
 "nbformat": 4,
 "nbformat_minor": 4
}
